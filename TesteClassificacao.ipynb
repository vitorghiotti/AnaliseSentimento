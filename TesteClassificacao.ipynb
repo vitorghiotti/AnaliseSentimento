{
 "cells": [
  {
   "cell_type": "code",
   "execution_count": 1,
   "metadata": {},
   "outputs": [
    {
     "name": "stderr",
     "output_type": "stream",
     "text": [
      "/home/vitorghiotti/anaconda3/lib/python3.6/site-packages/nltk/twitter/__init__.py:20: UserWarning: The twython library has not been installed. Some functionality from the twitter package will not be available.\n",
      "  warnings.warn(\"The twython library has not been installed. \"\n"
     ]
    }
   ],
   "source": [
    "import Classificador\n",
    "import csv\n",
    "import pandas as pd"
   ]
  },
  {
   "cell_type": "code",
   "execution_count": 2,
   "metadata": {},
   "outputs": [],
   "source": [
    "#inpTweets = csv.reader(open('BaseNegativosTeste.csv', 'r', encoding='utf8'), delimiter=',')\n",
    "inpTweets = csv.reader(open('BaseNegativosTeste.csv', 'r'), delimiter=',')\n",
    "\n",
    "sentenceList = []\n",
    "\n",
    "for row in inpTweets:\n",
    "    if len(row)==4:\n",
    "        sentenceList.append(row[2])"
   ]
  },
  {
   "cell_type": "code",
   "execution_count": 3,
   "metadata": {},
   "outputs": [],
   "source": [
    "df = pd.DataFrame(sentenceList)"
   ]
  },
  {
   "cell_type": "code",
   "execution_count": 29,
   "metadata": {},
   "outputs": [],
   "source": [
    "df_sample = df.sample(10,random_state=28061976)"
   ]
  },
  {
   "cell_type": "code",
   "execution_count": 30,
   "metadata": {},
   "outputs": [],
   "source": [
    "df_sample['Sentimento']=0"
   ]
  },
  {
   "cell_type": "code",
   "execution_count": 31,
   "metadata": {},
   "outputs": [],
   "source": [
    "df_sample=df_sample.rename(columns = {0:'Frase'})"
   ]
  },
  {
   "cell_type": "code",
   "execution_count": 7,
   "metadata": {},
   "outputs": [],
   "source": [
    "Classificador.treinaModelo(True)"
   ]
  },
  {
   "cell_type": "code",
   "execution_count": 32,
   "metadata": {},
   "outputs": [],
   "source": [
    "df_sample['Sentimento'] = df_sample.apply(lambda row: Classificador.classifica(row['Frase']), axis=1)"
   ]
  },
  {
   "cell_type": "code",
   "execution_count": 33,
   "metadata": {},
   "outputs": [],
   "source": [
    "df_sample['Prob False'] = df_sample.apply(lambda row: Classificador.Prob_Label(row['Frase'],False), axis=1)"
   ]
  },
  {
   "cell_type": "code",
   "execution_count": 34,
   "metadata": {},
   "outputs": [],
   "source": [
    "df_sample['Prob True'] = df_sample.apply(lambda row: Classificador.Prob_Label(row['Frase'],True), axis=1)"
   ]
  },
  {
   "cell_type": "code",
   "execution_count": 35,
   "metadata": {},
   "outputs": [],
   "source": [
    "pd.set_option('max_colwidth',150)"
   ]
  },
  {
   "cell_type": "code",
   "execution_count": 36,
   "metadata": {},
   "outputs": [
    {
     "data": {
      "text/html": [
       "<div>\n",
       "<style scoped>\n",
       "    .dataframe tbody tr th:only-of-type {\n",
       "        vertical-align: middle;\n",
       "    }\n",
       "\n",
       "    .dataframe tbody tr th {\n",
       "        vertical-align: top;\n",
       "    }\n",
       "\n",
       "    .dataframe thead th {\n",
       "        text-align: right;\n",
       "    }\n",
       "</style>\n",
       "<table border=\"1\" class=\"dataframe\">\n",
       "  <thead>\n",
       "    <tr style=\"text-align: right;\">\n",
       "      <th></th>\n",
       "      <th>Frase</th>\n",
       "      <th>Sentimento</th>\n",
       "      <th>Prob False</th>\n",
       "      <th>Prob True</th>\n",
       "    </tr>\n",
       "  </thead>\n",
       "  <tbody>\n",
       "    <tr>\n",
       "      <th>9976</th>\n",
       "      <td>KKKKK NÃO :( https://t.co/msGqvciqsE</td>\n",
       "      <td>None</td>\n",
       "      <td>0.000000</td>\n",
       "      <td>0.000000</td>\n",
       "    </tr>\n",
       "    <tr>\n",
       "      <th>8910</th>\n",
       "      <td>@DanielaAF por aí :(</td>\n",
       "      <td>True</td>\n",
       "      <td>0.376201</td>\n",
       "      <td>0.623799</td>\n",
       "    </tr>\n",
       "    <tr>\n",
       "      <th>5</th>\n",
       "      <td>Nada que me agrade en Cinépolis  :(</td>\n",
       "      <td>False</td>\n",
       "      <td>0.831394</td>\n",
       "      <td>0.168606</td>\n",
       "    </tr>\n",
       "    <tr>\n",
       "      <th>30332</th>\n",
       "      <td>@Popr0cksNCoke Eu entendo a sua frustração. :(\\nMas assim, quem te seguiu, sabe que o seu conteúdo é assim e que não… https://t.co/aPOP9rqwzy</td>\n",
       "      <td>True</td>\n",
       "      <td>0.000000</td>\n",
       "      <td>1.000000</td>\n",
       "    </tr>\n",
       "    <tr>\n",
       "      <th>7241</th>\n",
       "      <td>tá um frioooooo e eu to com sono queria ficar dormindo :(</td>\n",
       "      <td>False</td>\n",
       "      <td>0.998263</td>\n",
       "      <td>0.001737</td>\n",
       "    </tr>\n",
       "    <tr>\n",
       "      <th>24045</th>\n",
       "      <td>@MillaresRoo Roteiros rançosos e Castelao em Comic Sans! Que combo! Dessas cousas há que fazer mais propaganda amigas, não sabia nada. :(</td>\n",
       "      <td>True</td>\n",
       "      <td>0.000000</td>\n",
       "      <td>1.000000</td>\n",
       "    </tr>\n",
       "    <tr>\n",
       "      <th>6260</th>\n",
       "      <td>sdd do Matheus :(</td>\n",
       "      <td>False</td>\n",
       "      <td>0.613839</td>\n",
       "      <td>0.386161</td>\n",
       "    </tr>\n",
       "    <tr>\n",
       "      <th>20389</th>\n",
       "      <td>Acordei tarde dnv :(</td>\n",
       "      <td>False</td>\n",
       "      <td>0.986579</td>\n",
       "      <td>0.013421</td>\n",
       "    </tr>\n",
       "    <tr>\n",
       "      <th>29851</th>\n",
       "      <td>@ohfuckanya SKDJDKDKFG EU NÃO DISSE NADA DISSO PFVR o :( é só sdds mesmo</td>\n",
       "      <td>False</td>\n",
       "      <td>0.995237</td>\n",
       "      <td>0.004763</td>\n",
       "    </tr>\n",
       "    <tr>\n",
       "      <th>11731</th>\n",
       "      <td>Não deu, decepcionada :(</td>\n",
       "      <td>False</td>\n",
       "      <td>0.867837</td>\n",
       "      <td>0.132163</td>\n",
       "    </tr>\n",
       "  </tbody>\n",
       "</table>\n",
       "</div>"
      ],
      "text/plain": [
       "                                                                                                                                               Frase  \\\n",
       "9976                                                                                                            KKKKK NÃO :( https://t.co/msGqvciqsE   \n",
       "8910                                                                                                                            @DanielaAF por aí :(   \n",
       "5                                                                                                                Nada que me agrade en Cinépolis  :(   \n",
       "30332  @Popr0cksNCoke Eu entendo a sua frustração. :(\\nMas assim, quem te seguiu, sabe que o seu conteúdo é assim e que não… https://t.co/aPOP9rqwzy   \n",
       "7241                                                                                       tá um frioooooo e eu to com sono queria ficar dormindo :(   \n",
       "24045      @MillaresRoo Roteiros rançosos e Castelao em Comic Sans! Que combo! Dessas cousas há que fazer mais propaganda amigas, não sabia nada. :(   \n",
       "6260                                                                                                                               sdd do Matheus :(   \n",
       "20389                                                                                                                           Acordei tarde dnv :(   \n",
       "29851                                                                       @ohfuckanya SKDJDKDKFG EU NÃO DISSE NADA DISSO PFVR o :( é só sdds mesmo   \n",
       "11731                                                                                                                       Não deu, decepcionada :(   \n",
       "\n",
       "      Sentimento  Prob False  Prob True  \n",
       "9976        None    0.000000   0.000000  \n",
       "8910        True    0.376201   0.623799  \n",
       "5          False    0.831394   0.168606  \n",
       "30332       True    0.000000   1.000000  \n",
       "7241       False    0.998263   0.001737  \n",
       "24045       True    0.000000   1.000000  \n",
       "6260       False    0.613839   0.386161  \n",
       "20389      False    0.986579   0.013421  \n",
       "29851      False    0.995237   0.004763  \n",
       "11731      False    0.867837   0.132163  "
      ]
     },
     "execution_count": 36,
     "metadata": {},
     "output_type": "execute_result"
    }
   ],
   "source": [
    "df_sample"
   ]
  },
  {
   "cell_type": "code",
   "execution_count": null,
   "metadata": {},
   "outputs": [],
   "source": []
  }
 ],
 "metadata": {
  "kernelspec": {
   "display_name": "Python 3",
   "language": "python",
   "name": "python3"
  },
  "language_info": {
   "codemirror_mode": {
    "name": "ipython",
    "version": 3
   },
   "file_extension": ".py",
   "mimetype": "text/x-python",
   "name": "python",
   "nbconvert_exporter": "python",
   "pygments_lexer": "ipython3",
   "version": "3.6.4"
  }
 },
 "nbformat": 4,
 "nbformat_minor": 2
}
