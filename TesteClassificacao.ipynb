{
 "cells": [
  {
   "cell_type": "code",
   "execution_count": 1,
   "metadata": {},
   "outputs": [],
   "source": [
    "import Classificador\n",
    "import csv\n",
    "import pandas as pd"
   ]
  },
  {
   "cell_type": "code",
   "execution_count": 2,
   "metadata": {},
   "outputs": [],
   "source": [
    "inpTweets = csv.reader(open('BaseNegativosTeste.csv', 'r'), delimiter=',')\n",
    "\n",
    "sentenceList = []\n",
    "\n",
    "for row in inpTweets:\n",
    "    if len(row)==4:\n",
    "        sentenceList.append(row[2])"
   ]
  },
  {
   "cell_type": "code",
   "execution_count": 3,
   "metadata": {},
   "outputs": [],
   "source": [
    "df = pd.DataFrame(sentenceList)"
   ]
  },
  {
   "cell_type": "code",
   "execution_count": 21,
   "metadata": {},
   "outputs": [],
   "source": [
    "df_sample = df.sample(10,random_state=26061976)"
   ]
  },
  {
   "cell_type": "code",
   "execution_count": 22,
   "metadata": {},
   "outputs": [],
   "source": [
    "df_sample['Sentimento']=0"
   ]
  },
  {
   "cell_type": "code",
   "execution_count": 23,
   "metadata": {},
   "outputs": [],
   "source": [
    "df_sample=df_sample.rename(columns = {0:'Frase'})"
   ]
  },
  {
   "cell_type": "code",
   "execution_count": 7,
   "metadata": {},
   "outputs": [],
   "source": [
    "Classificador.treinaModelo(True)"
   ]
  },
  {
   "cell_type": "code",
   "execution_count": 24,
   "metadata": {},
   "outputs": [],
   "source": [
    "df_sample['Sentimento'] = df_sample.apply(lambda row: Classificador.classifica(row['Frase']), axis=1)"
   ]
  },
  {
   "cell_type": "code",
   "execution_count": 25,
   "metadata": {},
   "outputs": [],
   "source": [
    "df_sample['Prob False'] = df_sample.apply(lambda row: Classificador.Prob_false(row['Frase'],False), axis=1)"
   ]
  },
  {
   "cell_type": "code",
   "execution_count": 26,
   "metadata": {},
   "outputs": [],
   "source": [
    "df_sample['Prob True'] = df_sample.apply(lambda row: Classificador.Prob_false(row['Frase'],True), axis=1)"
   ]
  },
  {
   "cell_type": "code",
   "execution_count": 27,
   "metadata": {},
   "outputs": [],
   "source": [
    "pd.set_option('max_colwidth',150)"
   ]
  },
  {
   "cell_type": "code",
   "execution_count": 28,
   "metadata": {},
   "outputs": [
    {
     "data": {
      "text/html": [
       "<div>\n",
       "<style scoped>\n",
       "    .dataframe tbody tr th:only-of-type {\n",
       "        vertical-align: middle;\n",
       "    }\n",
       "\n",
       "    .dataframe tbody tr th {\n",
       "        vertical-align: top;\n",
       "    }\n",
       "\n",
       "    .dataframe thead th {\n",
       "        text-align: right;\n",
       "    }\n",
       "</style>\n",
       "<table border=\"1\" class=\"dataframe\">\n",
       "  <thead>\n",
       "    <tr style=\"text-align: right;\">\n",
       "      <th></th>\n",
       "      <th>Frase</th>\n",
       "      <th>Sentimento</th>\n",
       "      <th>Prob False</th>\n",
       "      <th>Prob True</th>\n",
       "    </tr>\n",
       "  </thead>\n",
       "  <tbody>\n",
       "    <tr>\n",
       "      <th>3515</th>\n",
       "      <td>Nada ver trabalhar hoje :(</td>\n",
       "      <td>False</td>\n",
       "      <td>0.943093</td>\n",
       "      <td>0.056907</td>\n",
       "    </tr>\n",
       "    <tr>\n",
       "      <th>3641</th>\n",
       "      <td>Como é ruim/péssimo mexer no tt e no facebook pelo computador viu?! Sdds meu celular :(</td>\n",
       "      <td>False</td>\n",
       "      <td>0.999991</td>\n",
       "      <td>0.000009</td>\n",
       "    </tr>\n",
       "    <tr>\n",
       "      <th>24411</th>\n",
       "      <td>Sábado pior q segunda no trabalho :(</td>\n",
       "      <td>False</td>\n",
       "      <td>0.993953</td>\n",
       "      <td>0.006047</td>\n",
       "    </tr>\n",
       "    <tr>\n",
       "      <th>21154</th>\n",
       "      <td>Morreu Almir Guineto. Enorme perda :( https://t.co/6hhhtkLoXX</td>\n",
       "      <td>False</td>\n",
       "      <td>0.784659</td>\n",
       "      <td>0.215341</td>\n",
       "    </tr>\n",
       "    <tr>\n",
       "      <th>26840</th>\n",
       "      <td>@ITheKaioCe Bicho ruim vc :(</td>\n",
       "      <td>False</td>\n",
       "      <td>0.970736</td>\n",
       "      <td>0.029264</td>\n",
       "    </tr>\n",
       "    <tr>\n",
       "      <th>17689</th>\n",
       "      <td>@henriaradia :( eu acho tão mágica</td>\n",
       "      <td>False</td>\n",
       "      <td>0.991804</td>\n",
       "      <td>0.008196</td>\n",
       "    </tr>\n",
       "    <tr>\n",
       "      <th>24500</th>\n",
       "      <td>Achei que nunca ia dizer isso mas por motivos de saúde:\\n\\nadeus gordices :(</td>\n",
       "      <td>False</td>\n",
       "      <td>0.956069</td>\n",
       "      <td>0.043931</td>\n",
       "    </tr>\n",
       "    <tr>\n",
       "      <th>27054</th>\n",
       "      <td>@larassmrqz eu desisti :(</td>\n",
       "      <td>None</td>\n",
       "      <td>0.000000</td>\n",
       "      <td>0.000000</td>\n",
       "    </tr>\n",
       "    <tr>\n",
       "      <th>21674</th>\n",
       "      <td>to passando mt mal :(</td>\n",
       "      <td>False</td>\n",
       "      <td>0.992715</td>\n",
       "      <td>0.007285</td>\n",
       "    </tr>\n",
       "    <tr>\n",
       "      <th>6331</th>\n",
       "      <td>A @AlejoIgoa ? No, me va a ignorar. :( https://t.co/9nJFHzjl09</td>\n",
       "      <td>False</td>\n",
       "      <td>0.963301</td>\n",
       "      <td>0.036699</td>\n",
       "    </tr>\n",
       "  </tbody>\n",
       "</table>\n",
       "</div>"
      ],
      "text/plain": [
       "                                                                                         Frase  \\\n",
       "3515                                                                Nada ver trabalhar hoje :(   \n",
       "3641   Como é ruim/péssimo mexer no tt e no facebook pelo computador viu?! Sdds meu celular :(   \n",
       "24411                                                     Sábado pior q segunda no trabalho :(   \n",
       "21154                            Morreu Almir Guineto. Enorme perda :( https://t.co/6hhhtkLoXX   \n",
       "26840                                                             @ITheKaioCe Bicho ruim vc :(   \n",
       "17689                                                       @henriaradia :( eu acho tão mágica   \n",
       "24500             Achei que nunca ia dizer isso mas por motivos de saúde:\\n\\nadeus gordices :(   \n",
       "27054                                                                @larassmrqz eu desisti :(   \n",
       "21674                                                                    to passando mt mal :(   \n",
       "6331                            A @AlejoIgoa ? No, me va a ignorar. :( https://t.co/9nJFHzjl09   \n",
       "\n",
       "      Sentimento  Prob False  Prob True  \n",
       "3515       False    0.943093   0.056907  \n",
       "3641       False    0.999991   0.000009  \n",
       "24411      False    0.993953   0.006047  \n",
       "21154      False    0.784659   0.215341  \n",
       "26840      False    0.970736   0.029264  \n",
       "17689      False    0.991804   0.008196  \n",
       "24500      False    0.956069   0.043931  \n",
       "27054       None    0.000000   0.000000  \n",
       "21674      False    0.992715   0.007285  \n",
       "6331       False    0.963301   0.036699  "
      ]
     },
     "execution_count": 28,
     "metadata": {},
     "output_type": "execute_result"
    }
   ],
   "source": [
    "df_sample"
   ]
  },
  {
   "cell_type": "code",
   "execution_count": null,
   "metadata": {},
   "outputs": [],
   "source": []
  }
 ],
 "metadata": {
  "kernelspec": {
   "display_name": "Python 3",
   "language": "python",
   "name": "python3"
  },
  "language_info": {
   "codemirror_mode": {
    "name": "ipython",
    "version": 3
   },
   "file_extension": ".py",
   "mimetype": "text/x-python",
   "name": "python",
   "nbconvert_exporter": "python",
   "pygments_lexer": "ipython3",
   "version": "3.6.4"
  }
 },
 "nbformat": 4,
 "nbformat_minor": 2
}
