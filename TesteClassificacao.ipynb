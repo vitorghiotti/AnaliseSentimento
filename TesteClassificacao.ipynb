{
 "cells": [
  {
   "cell_type": "code",
   "execution_count": 1,
   "metadata": {},
   "outputs": [],
   "source": [
    "import Classificador\n",
    "import csv\n",
    "import pandas as pd"
   ]
  },
  {
   "cell_type": "code",
   "execution_count": 2,
   "metadata": {},
   "outputs": [],
   "source": [
    "#inpTweets = csv.reader(open('BaseNegativosTeste.csv', 'r', encoding='utf8'), delimiter=',')\n",
    "inpTweets = csv.reader(open('BaseNegativosTeste.csv', 'r'), delimiter=',')\n",
    "\n",
    "sentenceList = []\n",
    "\n",
    "for row in inpTweets:\n",
    "    if len(row)==4:\n",
    "        sentenceList.append(row[2])"
   ]
  },
  {
   "cell_type": "code",
   "execution_count": 3,
   "metadata": {},
   "outputs": [],
   "source": [
    "df = pd.DataFrame(sentenceList)"
   ]
  },
  {
   "cell_type": "code",
   "execution_count": 4,
   "metadata": {},
   "outputs": [],
   "source": [
    "df_sample = df.sample(10,random_state=24061976)"
   ]
  },
  {
   "cell_type": "code",
   "execution_count": 5,
   "metadata": {},
   "outputs": [],
   "source": [
    "df_sample['Sentimento']=0"
   ]
  },
  {
   "cell_type": "code",
   "execution_count": 6,
   "metadata": {},
   "outputs": [],
   "source": [
    "df_sample=df_sample.rename(columns = {0:'Frase'})"
   ]
  },
  {
   "cell_type": "code",
   "execution_count": 7,
   "metadata": {},
   "outputs": [],
   "source": [
    "Classificador.treinaModelo(True,2)"
   ]
  },
  {
   "cell_type": "code",
   "execution_count": null,
   "metadata": {},
   "outputs": [],
   "source": [
    "df_sample['Sentimento'] = df_sample.apply(lambda row: Classificador.classifica(row['Frase']), axis=1)"
   ]
  },
  {
   "cell_type": "code",
   "execution_count": 9,
   "metadata": {},
   "outputs": [],
   "source": [
    "df_sample['Prob False'] = df_sample.apply(lambda row: Classificador.Prob_Label(row['Frase'],False), axis=1)"
   ]
  },
  {
   "cell_type": "code",
   "execution_count": 10,
   "metadata": {},
   "outputs": [],
   "source": [
    "df_sample['Prob True'] = df_sample.apply(lambda row: Classificador.Prob_Label(row['Frase'],True), axis=1)"
   ]
  },
  {
   "cell_type": "code",
   "execution_count": 11,
   "metadata": {},
   "outputs": [],
   "source": [
    "pd.set_option('max_colwidth',150)"
   ]
  },
  {
   "cell_type": "code",
   "execution_count": 12,
   "metadata": {},
   "outputs": [
    {
     "data": {
      "text/html": [
       "<div>\n",
       "<style scoped>\n",
       "    .dataframe tbody tr th:only-of-type {\n",
       "        vertical-align: middle;\n",
       "    }\n",
       "\n",
       "    .dataframe tbody tr th {\n",
       "        vertical-align: top;\n",
       "    }\n",
       "\n",
       "    .dataframe thead th {\n",
       "        text-align: right;\n",
       "    }\n",
       "</style>\n",
       "<table border=\"1\" class=\"dataframe\">\n",
       "  <thead>\n",
       "    <tr style=\"text-align: right;\">\n",
       "      <th></th>\n",
       "      <th>Frase</th>\n",
       "      <th>Sentimento</th>\n",
       "      <th>Prob False</th>\n",
       "      <th>Prob True</th>\n",
       "    </tr>\n",
       "  </thead>\n",
       "  <tbody>\n",
       "    <tr>\n",
       "      <th>4408</th>\n",
       "      <td>#BTSBBMAs to indo pra quarta conta ainda :(</td>\n",
       "      <td>False</td>\n",
       "      <td>0.995314</td>\n",
       "      <td>4.685867e-03</td>\n",
       "    </tr>\n",
       "    <tr>\n",
       "      <th>27347</th>\n",
       "      <td>Nem tinha me ligado :( https://t.co/bGFMOYApf2</td>\n",
       "      <td>False</td>\n",
       "      <td>0.682389</td>\n",
       "      <td>3.176113e-01</td>\n",
       "    </tr>\n",
       "    <tr>\n",
       "      <th>27377</th>\n",
       "      <td>vendo clipes da oned e pensando como estaria tudo agora se eles nao estivessem no hiatus :(</td>\n",
       "      <td>True</td>\n",
       "      <td>0.000000</td>\n",
       "      <td>1.000000e+00</td>\n",
       "    </tr>\n",
       "    <tr>\n",
       "      <th>21306</th>\n",
       "      <td>não aguento meu elenco unidão :-( https://t.co/OQ4x6BBAFz</td>\n",
       "      <td>False</td>\n",
       "      <td>0.985657</td>\n",
       "      <td>1.434286e-02</td>\n",
       "    </tr>\n",
       "    <tr>\n",
       "      <th>26050</th>\n",
       "      <td>@mayaravmorais Triste dizer que atualmente é a única coisa que me interessa em se tratando de Dream Theater :(</td>\n",
       "      <td>False</td>\n",
       "      <td>0.999316</td>\n",
       "      <td>6.838572e-04</td>\n",
       "    </tr>\n",
       "    <tr>\n",
       "      <th>2934</th>\n",
       "      <td>@Folha_Alves Devido a estas fotos maravilhosas levamos falta :(</td>\n",
       "      <td>False</td>\n",
       "      <td>1.000000</td>\n",
       "      <td>1.973523e-11</td>\n",
       "    </tr>\n",
       "    <tr>\n",
       "      <th>19336</th>\n",
       "      <td>Aí eu estava feliz com o Hoseok, estávamos conversando e rindo(sorriso sol), eu fazia massagem nos ombros dele e o despertador me acordou :(</td>\n",
       "      <td>False</td>\n",
       "      <td>0.851901</td>\n",
       "      <td>1.480994e-01</td>\n",
       "    </tr>\n",
       "    <tr>\n",
       "      <th>19853</th>\n",
       "      <td>Eu sinto uma profunda tristeza quando escuto Daughter :( &amp;lt;3 .. Porém é tão boooom</td>\n",
       "      <td>True</td>\n",
       "      <td>0.000000</td>\n",
       "      <td>1.000000e+00</td>\n",
       "    </tr>\n",
       "    <tr>\n",
       "      <th>3566</th>\n",
       "      <td>@jusmilafavs infelizmente n vou poder ficar :(</td>\n",
       "      <td>False</td>\n",
       "      <td>1.000000</td>\n",
       "      <td>1.867413e-07</td>\n",
       "    </tr>\n",
       "    <tr>\n",
       "      <th>18923</th>\n",
       "      <td>O Paulo resetou meu celular sem querer :(</td>\n",
       "      <td>True</td>\n",
       "      <td>0.356409</td>\n",
       "      <td>6.435911e-01</td>\n",
       "    </tr>\n",
       "  </tbody>\n",
       "</table>\n",
       "</div>"
      ],
      "text/plain": [
       "                                                                                                                                              Frase  \\\n",
       "4408                                                                                                    #BTSBBMAs to indo pra quarta conta ainda :(   \n",
       "27347                                                                                                Nem tinha me ligado :( https://t.co/bGFMOYApf2   \n",
       "27377                                                   vendo clipes da oned e pensando como estaria tudo agora se eles nao estivessem no hiatus :(   \n",
       "21306                                                                                     não aguento meu elenco unidão :-( https://t.co/OQ4x6BBAFz   \n",
       "26050                                @mayaravmorais Triste dizer que atualmente é a única coisa que me interessa em se tratando de Dream Theater :(   \n",
       "2934                                                                                @Folha_Alves Devido a estas fotos maravilhosas levamos falta :(   \n",
       "19336  Aí eu estava feliz com o Hoseok, estávamos conversando e rindo(sorriso sol), eu fazia massagem nos ombros dele e o despertador me acordou :(   \n",
       "19853                                                          Eu sinto uma profunda tristeza quando escuto Daughter :( &lt;3 .. Porém é tão boooom   \n",
       "3566                                                                                                 @jusmilafavs infelizmente n vou poder ficar :(   \n",
       "18923                                                                                                     O Paulo resetou meu celular sem querer :(   \n",
       "\n",
       "       Sentimento  Prob False     Prob True  \n",
       "4408        False    0.995314  4.685867e-03  \n",
       "27347       False    0.682389  3.176113e-01  \n",
       "27377        True    0.000000  1.000000e+00  \n",
       "21306       False    0.985657  1.434286e-02  \n",
       "26050       False    0.999316  6.838572e-04  \n",
       "2934        False    1.000000  1.973523e-11  \n",
       "19336       False    0.851901  1.480994e-01  \n",
       "19853        True    0.000000  1.000000e+00  \n",
       "3566        False    1.000000  1.867413e-07  \n",
       "18923        True    0.356409  6.435911e-01  "
      ]
     },
     "execution_count": 12,
     "metadata": {},
     "output_type": "execute_result"
    }
   ],
   "source": [
    "df_sample"
   ]
  },
  {
   "cell_type": "code",
   "execution_count": null,
   "metadata": {},
   "outputs": [],
   "source": []
  }
 ],
 "metadata": {
  "kernelspec": {
   "display_name": "Python 3",
   "language": "python",
   "name": "python3"
  },
  "language_info": {
   "codemirror_mode": {
    "name": "ipython",
    "version": 3
   },
   "file_extension": ".py",
   "mimetype": "text/x-python",
   "name": "python",
   "nbconvert_exporter": "python",
   "pygments_lexer": "ipython3",
   "version": "3.6.4"
  }
 },
 "nbformat": 4,
 "nbformat_minor": 2
}
