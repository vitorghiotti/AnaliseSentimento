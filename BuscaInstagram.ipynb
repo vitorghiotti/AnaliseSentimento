{
 "cells": [
  {
   "cell_type": "markdown",
   "metadata": {},
   "source": [
    "https://github.com/facebookarchive/python-instagram\n",
    "\n",
    "https://github.com/LevPasha/Instagram-API-python/blob/master/InstagramAPI/InstagramAPI.py\n"
   ]
  },
  {
   "cell_type": "code",
   "execution_count": null,
   "metadata": {},
   "outputs": [],
   "source": [
    "#!pip install --user InstagramAPI"
   ]
  },
  {
   "cell_type": "code",
   "execution_count": 4,
   "metadata": {},
   "outputs": [
    {
     "name": "stdout",
     "output_type": "stream",
     "text": [
      "Fail to import moviepy. Need only for Video upload.\n"
     ]
    }
   ],
   "source": [
    "from InstagramAPI import InstagramAPI\n",
    "import time\n",
    "from datetime import datetime\n",
    "import db_reacao"
   ]
  },
  {
   "cell_type": "code",
   "execution_count": 5,
   "metadata": {
    "scrolled": false
   },
   "outputs": [
    {
     "name": "stdout",
     "output_type": "stream",
     "text": [
      "Login success!\n",
      "\n",
      "\n"
     ]
    }
   ],
   "source": [
    "api = InstagramAPI(\"vitor.ghiotti@gmail.com\", \"Deb1Mis2@@\")\n",
    "if (api.login()):\n",
    "    print(\"\")\n",
    "else:\n",
    "    print(\"Can't login!\")"
   ]
  },
  {
   "cell_type": "markdown",
   "metadata": {},
   "source": [
    "# PESQUISA PARA ENTENDER USERID, HASHTAGS E LOCATIONS"
   ]
  },
  {
   "cell_type": "code",
   "execution_count": 6,
   "metadata": {},
   "outputs": [],
   "source": [
    "query = {}\n",
    "api.fbUserSearch(\"linha verde vitoria\") \n",
    "query = api.LastJson"
   ]
  },
  {
   "cell_type": "code",
   "execution_count": 7,
   "metadata": {},
   "outputs": [
    {
     "name": "stdout",
     "output_type": "stream",
     "text": [
      "dict_keys(['users', 'places', 'hashtags', 'has_more', 'rank_token', 'clear_client_cache', 'status'])\n",
      "***********************************************Users************************************************\n",
      "[]\n",
      "***********************************************places***********************************************\n",
      "[]\n",
      "**********************************************hashtags**********************************************\n",
      "[{'position': 0, 'hashtag': {'name': 'linhaverdevitoria', 'id': 17931103342058105, 'media_count': 2}}]\n",
      "**********************************************has_more**********************************************\n",
      "False\n"
     ]
    }
   ],
   "source": [
    "print(query.keys())\n",
    "print(\"Users\".center(100,\"*\"))\n",
    "print(query.get(\"users\"))\n",
    "print(\"places\".center(100,\"*\"))\n",
    "print(query.get(\"places\"))\n",
    "print(\"hashtags\".center(100,\"*\"))\n",
    "print(query.get(\"hashtags\"))\n",
    "print(\"has_more\".center(100,\"*\"))\n",
    "print(query.get(\"has_more\"))"
   ]
  },
  {
   "cell_type": "markdown",
   "metadata": {},
   "source": [
    "# DEFINIÇÃO DE FUNÇÕES"
   ]
  },
  {
   "cell_type": "code",
   "execution_count": 9,
   "metadata": {},
   "outputs": [],
   "source": [
    "def get_comments_by_usernameId(usernameId):\n",
    "    more_available = True\n",
    "    max_id = ''\n",
    "    userFeed = {}\n",
    "    \n",
    "    api.getUserFeed(usernameId=usernameId,maxid=max_id)\n",
    "    userFeed = api.LastJson\n",
    "\n",
    "    while more_available:\n",
    "        time.sleep(1)\n",
    "        for item_feed in range(0,userFeed[\"num_results\"]):\n",
    "            if userFeed[\"items\"][item_feed][\"comment_count\"]!=0:\n",
    "                if userFeed[\"items\"][item_feed][\"caption\"]!=None:\n",
    "                    if datetime.fromtimestamp(userFeed[\"items\"][item_feed][\"caption\"][\"created_at\"])>=query_start_collect:\n",
    "                        #print(userFeed[\"items\"][itens][\"pk\"])\n",
    "                        #print(userFeed[\"items\"][itens][\"comment_count\"])\n",
    "                        #print(userFeed[\"items\"][itens][\"has_more_comments\"])\n",
    "                        #print(userFeed[\"items\"][itens][\"caption\"][\"text\"])\n",
    "                        #print(datetime.fromtimestamp(userFeed[\"items\"][itens][\"caption\"][\"created_at\"]))\n",
    "                        #print(userFeed[\"items\"][itens][\"caption\"][\"media_id\"])\n",
    "                        print(\"Inclusão de registro\".center(110,\"*\"))\n",
    "                        print(\"User Feed '\" + usernameId + \"': \" +str(userFeed[\"items\"][item_feed][\"caption\"][\"media_id\"]))\n",
    "                        insert_comments(str(userFeed[\"items\"][item_feed][\"caption\"][\"media_id\"]), \"UserFeed\")\n",
    "                    else:\n",
    "                        more_available = False\n",
    "    \n",
    "        if more_available:\n",
    "            more_available = userFeed.get('more_available', False)\n",
    "            if userFeed.get('more_available', False)==True:\n",
    "                max_id = userFeed[\"next_max_id\"]   \n",
    "                api.getUserFeed(usernameId=usernameId,maxid=max_id)\n",
    "                userFeed = api.LastJson\n",
    "                time.sleep(2)"
   ]
  },
  {
   "cell_type": "code",
   "execution_count": 10,
   "metadata": {},
   "outputs": [],
   "source": [
    "def get_comments_by_hashTags(hashTags):\n",
    "    global usernameId\n",
    "    \n",
    "    more_available = True\n",
    "    max_id = ''\n",
    "    hTags = {}\n",
    "\n",
    "    for tags in range(0,len(hashTags)):\n",
    "        api.getHashtagFeed(hashtagString=hashTags[tags],maxid=max_id)\n",
    "        hTags = api.LastJson\n",
    "\n",
    "        while more_available:\n",
    "            time.sleep(1)\n",
    "            for item_htag in range(0,len(hTags['items'])):\n",
    "                if hTags['items'][item_htag][\"comment_count\"]!=0:\n",
    "                    if hTags[\"items\"][item_htag][\"caption\"]!=None:\n",
    "                        if datetime.fromtimestamp(hTags[\"items\"][item_htag][\"caption\"][\"created_at\"])>=query_start_collect:\n",
    "                            print(\"Inclusão de registro\".center(110,\"*\"))\n",
    "                            print(\"HarshTag '\" + hashTags[tags] + \"': \" +str(hTags[\"items\"][item_htag][\"caption\"][\"media_id\"]))\n",
    "                            insert_comments(str(hTags[\"items\"][item_htag][\"caption\"][\"media_id\"]), \"HashTag\")\n",
    "                        else:\n",
    "                            more_available = False\n",
    "\n",
    "            if more_available:   \n",
    "                more_available = hTags.get('more_available', False)\n",
    "                if hTags.get('more_available', False)==True:\n",
    "                    max_id = hTags[\"next_max_id\"]   \n",
    "                    api.getHashtagFeed(hashtagString=hashTags[tags],maxid=max_id)\n",
    "                    hTags = api.LastJson\n",
    "                    time.sleep(2)"
   ]
  },
  {
   "cell_type": "code",
   "execution_count": 11,
   "metadata": {},
   "outputs": [],
   "source": [
    "def get_comments_by_location(listLocations):\n",
    "    global usernameId\n",
    "    \n",
    "    more_available = True\n",
    "    max_id = ''\n",
    "    place = {}\n",
    "\n",
    "    for index in range(0,len(listLocations)):\n",
    "        api.getLocationFeed(locationId=listLocations[index],maxid=max_id)\n",
    "        place = api.LastJson\n",
    "\n",
    "        while more_available:\n",
    "            time.sleep(1)\n",
    "            for item_place in range(0,len(place['items'])):\n",
    "                if place['items'][item_place][\"comment_count\"]!=0:\n",
    "                    if place[\"items\"][item_place][\"caption\"]!=None:\n",
    "                        if datetime.fromtimestamp(place[\"items\"][item_place][\"caption\"][\"created_at\"])>=query_start_collect:\n",
    "                            print(\"Inclusão de registro\".center(110,\"*\"))\n",
    "                            print(\"Location '\" + listLocations[index] + \"': \" +str(place[\"items\"][item_place][\"caption\"][\"media_id\"]))\n",
    "                            insert_comments(str(place[\"items\"][item_place][\"caption\"][\"media_id\"]), \"Place\")\n",
    "                        else:\n",
    "                            more_available = False\n",
    "\n",
    "            if more_available:   \n",
    "                more_available = place.get('more_available', False)\n",
    "                if place.get('more_available', False)==True:\n",
    "                    max_id = place[\"next_max_id\"]   \n",
    "                    api.getLocationFeed(locationId=listLocations[index],maxid=max_id)\n",
    "                    place = api.LastJson\n",
    "                    time.sleep(2)"
   ]
  },
  {
   "cell_type": "code",
   "execution_count": 12,
   "metadata": {},
   "outputs": [],
   "source": [
    "def insert_comments(media_id, origem):\n",
    "    global erros_insert_comment\n",
    "    global insert_comment\n",
    "    global usernameId\n",
    "    \n",
    "    dic={'Place':6,'HashTag':5,'UserFeed':4}\n",
    "    has_more_comments = True\n",
    "    max_id = ''\n",
    "    comments = []\n",
    "    comm={}\n",
    "\n",
    "    while has_more_comments:\n",
    "        time.sleep(1)\n",
    "        api.getMediaComments(media_id, max_id=max_id)\n",
    "        comm = api.LastJson\n",
    "\n",
    "        for item_comm in range(0,len(comm['comments'])):\n",
    "            if datetime.fromtimestamp(comm[\"comments\"][item_comm][\"created_at\"])>=query_time_ini and datetime.fromtimestamp(comm[\"comments\"][item_comm][\"created_at\"])<=query_time_end:\n",
    "                if str(comm[\"comments\"][item_comm][\"user_id\"])!=usernameId:\n",
    "                    try:            \n",
    "                        db_reacao.add_reacao_insta(clientId,dic.get(origem),comm[\"comments\"][item_comm][\"text\"],0,comm[\"comments\"][item_comm][\"created_at\"],str(comm[\"comments\"][item_comm][\"pk\"]))\n",
    "                        insert_comment +=1\n",
    "                    except Exception as e:\n",
    "                        print(\"Erro inclusão comentário\".center(110,\"*\"))\n",
    "                        print(\"Origem: \" + origem)\n",
    "                        print(\"Identificador: \" + str(comm[\"comments\"][item_comm][\"pk\"]))\n",
    "                        print(\"Comentário: \" + str(comm[\"comments\"][item_comm][\"text\"]))\n",
    "                        print(\"User id: \" + str(usernameId))\n",
    "                        print(\"Media ID: \" + str(media_id))\n",
    "                        print(\"Erro: \" + str(e))\n",
    "                        erros_insert_comment +=1\n",
    "\n",
    "        has_more_comments = comm.get('has_more_comments', False)\n",
    "        if comm.get('has_more_comments', False)==True:\n",
    "            max_id = comm.get('next_max_id', '')\n",
    "            time.sleep(2)"
   ]
  },
  {
   "cell_type": "markdown",
   "metadata": {},
   "source": [
    "\n",
    "# INICIALIZAÇÃO DE VARIAVEIS"
   ]
  },
  {
   "cell_type": "code",
   "execution_count": null,
   "metadata": {},
   "outputs": [],
   "source": [
    "query_time_ini = datetime.strptime(\"2018-04-01\", '%Y-%m-%d')\n",
    "query_time_end = datetime.strptime(\"2018-04-30\", '%Y-%m-%d')\n",
    "query_start_collect = datetime.strptime(\"2018-04-01\", '%Y-%m-%d')\n",
    "erros_insert_comment = 0\n",
    "insert_comment = 0\n",
    "clientId = '1'\n",
    "usernameId = \"1229681384\"\n",
    "listHashTags = [\"casariobotequim\"]\n",
    "listLocations = [\"257354853\"]\n",
    "get_comments_by_usernameId(usernameId)\n",
    "get_comments_by_hashTags(listHashTags)\n",
    "get_comments_by_location(listLocations)\n",
    "print(\"Resumo do processamento\".center(110,\"*\"))\n",
    "print(\"Total de inserções de comentario: \" + str(insert_comment))\n",
    "print(\"Erros de inserção de comentario: \" + str(erros_insert_comment))"
   ]
  },
  {
   "cell_type": "code",
   "execution_count": null,
   "metadata": {},
   "outputs": [],
   "source": [
    "query_time_ini = datetime.strptime(\"2018-04-01\", '%Y-%m-%d')\n",
    "query_time_end = datetime.strptime(\"2018-04-30\", '%Y-%m-%d')\n",
    "query_start_collect = datetime.strptime(\"2018-04-01\", '%Y-%m-%d')\n",
    "erros_insert_comment = 0\n",
    "insert_comment = 0\n",
    "clientId = '4'\n",
    "usernameId = \"5326226\"\n",
    "listHashTags = [\"fabriciogandini\"]\n",
    "#listLocations = [\"3958380\"]\n",
    "get_comments_by_usernameId(usernameId)\n",
    "get_comments_by_hashTags(listHashTags)\n",
    "#get_comments_by_location(listLocations)\n",
    "print(\"Resumo do processamento\".center(110,\"*\"))\n",
    "print(\"Total de inserções de comentario: \" + str(insert_comment))\n",
    "print(\"Erros de inserção de comentario: \" + str(erros_insert_comment))"
   ]
  },
  {
   "cell_type": "code",
   "execution_count": 13,
   "metadata": {},
   "outputs": [
    {
     "name": "stdout",
     "output_type": "stream",
     "text": [
      "*******************************************Resumo do processamento********************************************\n",
      "Total de inserções de comentario: 0\n",
      "Erros de inserção de comentario: 0\n"
     ]
    }
   ],
   "source": [
    "query_time_ini = datetime.strptime(\"2018-04-01\", '%Y-%m-%d')\n",
    "query_time_end = datetime.strptime(\"2018-05-01\", '%Y-%m-%d')\n",
    "query_start_collect = datetime.strptime(\"2018-04-01\", '%Y-%m-%d')\n",
    "erros_insert_comment = 0\n",
    "insert_comment = 0\n",
    "clientId = '6'\n",
    "usernameId = \"\"\n",
    "listHashTags = [\"linhaverdevitoria\",\"linhaverdeinteligente\"]\n",
    "listLocations = [\"\"]\n",
    "#get_comments_by_usernameId(usernameId)\n",
    "get_comments_by_hashTags(listHashTags)\n",
    "#get_comments_by_location(listLocations)\n",
    "print(\"Resumo do processamento\".center(110,\"*\"))\n",
    "print(\"Total de inserções de comentario: \" + str(insert_comment))\n",
    "print(\"Erros de inserção de comentario: \" + str(erros_insert_comment))"
   ]
  },
  {
   "cell_type": "markdown",
   "metadata": {},
   "source": [
    "# INICIO DA COLETA"
   ]
  },
  {
   "cell_type": "code",
   "execution_count": null,
   "metadata": {},
   "outputs": [],
   "source": [
    "erros_insert_comment = 0\n",
    "insert_comment=0\n",
    "get_comments_by_usernameId(usernameId)\n",
    "get_comments_by_hashTags(listHashTags)\n",
    "get_comments_by_location(listLocations)\n",
    "print(\"Resumo do processamento\".center(110,\"*\"))\n",
    "print(\"Total de inserções de comentario: \" + str(insert_comment))\n",
    "print(\"Erros de inserção de comentario: \" + str(erros_insert_comment))"
   ]
  },
  {
   "cell_type": "code",
   "execution_count": null,
   "metadata": {},
   "outputs": [],
   "source": []
  }
 ],
 "metadata": {
  "kernelspec": {
   "display_name": "Python 3",
   "language": "python",
   "name": "python3"
  },
  "language_info": {
   "codemirror_mode": {
    "name": "ipython",
    "version": 3
   },
   "file_extension": ".py",
   "mimetype": "text/x-python",
   "name": "python",
   "nbconvert_exporter": "python",
   "pygments_lexer": "ipython3",
   "version": "3.6.4"
  }
 },
 "nbformat": 4,
 "nbformat_minor": 2
}
