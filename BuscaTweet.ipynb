{
 "cells": [
  {
   "cell_type": "code",
   "execution_count": 1,
   "metadata": {
    "scrolled": true
   },
   "outputs": [],
   "source": [
    "#!pip install --user tweepy\n",
    "#!pip install orm\n",
    "#!pip install pony\n",
    "\n",
    "import tweepy\n",
    "import time\n",
    "import sys\n",
    "import db_reacao\n",
    "import numpy as np\n",
    "from pony import orm\n",
    "from datetime import datetime"
   ]
  },
  {
   "cell_type": "code",
   "execution_count": 2,
   "metadata": {},
   "outputs": [],
   "source": [
    "def insert_tweets(cliente, query,geocode_tweet,desde,ate):\n",
    "    global erros_insert_tweet\n",
    "    global insert_tweet\n",
    "    \n",
    "    for tweet in tweepy.Cursor (api.search,\n",
    "                                q = query ,\n",
    "                                #rpp = 1,\n",
    "                                locale = \"pt-br\",\n",
    "                                #page = 2,\n",
    "                                #result_type=\"recent\",\n",
    "                                include_entities = True ,\n",
    "                                lang = \"pt\",\n",
    "                                #count=2,\n",
    "                                geocode = geocode_tweet,\n",
    "                                since = desde,\n",
    "                                until = ate,\n",
    "                                show_user = True).items ():\n",
    "        time.sleep(abs(np.random.normal(2, 1, 1))[0])\n",
    "        try:\n",
    "            db_reacao.add_reacao_tweet(cliente,1,tweet, 0,int(time.mktime(tweet.created_at.timetuple())),str(tweet.id))\n",
    "            print(\"Registro inserido\".center(110,\"*\"))\n",
    "            print(\"Tweet: \" + tweet.text)\n",
    "            insert_tweet += 1\n",
    "        except Exception as e:\n",
    "            erros_insert_tweet += 1\n",
    "            print(\"Erro inclusão tweet\".center(110,\"*\"))\n",
    "            print(\"Cliente: \" + cliente)\n",
    "            print(\"Tweet id: \" + tweet.id)\n",
    "            print(\"Tweet: \" + tweet.text)\n",
    "            print(\"Erro: \" + str(e))"
   ]
  },
  {
   "cell_type": "code",
   "execution_count": 3,
   "metadata": {},
   "outputs": [],
   "source": [
    "consumer_key = 'BxMjvfsli0jcCIYJsSkf2o9oc'\n",
    "consumer_secret = 'aakoZuzuItiPbsoBf0dT0OnNWtnxj3BkF4lwV4gq8EtQxoeLYV'\n",
    "token_key = '116564828-8NwCEcqUlQPLIKiuwL11De2JemFoonQGuIMcEoGM'\n",
    "token_secret = 'TA94ij2YqJxSjwxcTV542wZZffgcYvNykSDQ3ht6ftlOb'\n",
    "\n",
    "auth = tweepy.OAuthHandler(consumer_key, consumer_secret)\n",
    "auth.set_access_token(token_key, token_secret)\n",
    "api = tweepy.API(auth)"
   ]
  },
  {
   "cell_type": "code",
   "execution_count": 4,
   "metadata": {},
   "outputs": [],
   "source": [
    "erros_insert_tweet = 0\n",
    "insert_tweet = 0\n",
    "\n",
    "desde = \"2018-04-01\"\n",
    "ate = \"2018-04-22\"\n",
    "cliente = '1'\n",
    "query = '\"#casariobotequim\" OR \"casa+rio+botequim\" OR \"casa rio botequim\"' \n",
    "geocode_tweet = (\"-20.357399530876,-40.292925544206,20km\")"
   ]
  },
  {
   "cell_type": "code",
   "execution_count": 5,
   "metadata": {},
   "outputs": [],
   "source": [
    "insert_tweets(cliente,query,geocode_tweet,desde,ate)"
   ]
  },
  {
   "cell_type": "code",
   "execution_count": 6,
   "metadata": {},
   "outputs": [
    {
     "name": "stdout",
     "output_type": "stream",
     "text": [
      "*******************************************Resumo do processamento********************************************\n",
      "Total de inserções de tweets: 0\n",
      "Erros de inserção de tweets: 0\n"
     ]
    }
   ],
   "source": [
    "print(\"Resumo do processamento\".center(110,\"*\"))\n",
    "print(\"Total de inserções de tweets: \" + str(insert_tweet))\n",
    "print(\"Erros de inserção de tweets: \" + str(erros_insert_tweet))"
   ]
  },
  {
   "cell_type": "raw",
   "metadata": {},
   "source": [
    "searchQuery = 'place:96683cc9126741d1 #teammystic OR #teaminstinct OR #teamvalor OR' \\\n",
    "              '#teamblue OR #teamyellow OR #teamred OR' \\\n",
    "              '#mystic OR #valor OR #instinct OR' \\\n",
    "              '\"team mystic\" OR \"team valor\" OR \"team instinct\"'\n",
    "            \n",
    "query = '\"#casariobotequim\"'\n",
    "max_tweets = 3\n",
    "searched_tweets = [status for status in tweepy.Cursor(api.search, q='vitorghiotti').items(max_tweets)]\n",
    "\n",
    "searched_tweets"
   ]
  }
 ],
 "metadata": {
  "kernelspec": {
   "display_name": "Python 3",
   "language": "python",
   "name": "python3"
  },
  "language_info": {
   "codemirror_mode": {
    "name": "ipython",
    "version": 3
   },
   "file_extension": ".py",
   "mimetype": "text/x-python",
   "name": "python",
   "nbconvert_exporter": "python",
   "pygments_lexer": "ipython3",
   "version": "3.6.4"
  }
 },
 "nbformat": 4,
 "nbformat_minor": 1
}
