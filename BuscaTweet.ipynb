{
 "cells": [
  {
   "cell_type": "code",
   "execution_count": 1,
   "metadata": {
    "scrolled": true
   },
   "outputs": [],
   "source": [
    "#!pip install --user tweepy\n",
    "#!pip install orm\n",
    "#!pip install pony\n",
    "\n",
    "import tweepy\n",
    "import time\n",
    "import sys\n",
    "import db_reacao\n",
    "import numpy as np\n",
    "from pony import orm\n",
    "from datetime import datetime"
   ]
  },
  {
   "cell_type": "code",
   "execution_count": 2,
   "metadata": {},
   "outputs": [],
   "source": [
    "def insert_tweets(cliente, query,geocode_tweet,desde,ate):\n",
    "    global erros_insert_tweet\n",
    "    global insert_tweet\n",
    "    \n",
    "    for tweet in tweepy.Cursor (api.search,\n",
    "                                q = query ,\n",
    "                                #rpp = 1,\n",
    "                                locale = \"pt-br\",\n",
    "                                #page = 2,\n",
    "                                #result_type=\"recent\",\n",
    "                                include_entities = True ,\n",
    "                                lang = \"pt\",\n",
    "                                #count=2,\n",
    "                                geocode = geocode_tweet,\n",
    "                                since = desde,\n",
    "                                until = ate,\n",
    "                                show_user = True).items ():\n",
    "        time.sleep(abs(np.random.normal(2, 1, 1))[0])\n",
    "        try:\n",
    "            db_reacao.add_reacao_tweet(cliente,1,tweet, 0,str(tweet.created_at),str(tweet.id))\n",
    "            #db_reacao.add_reacao_tweet(cliente,1,tweet, 0,int(time.mktime(tweet.created_at.timetuple())),str(tweet.id))\n",
    "            print(\"Registro inserido\".center(110,\"*\"))\n",
    "            print(\"Tweet: \" + tweet.text)\n",
    "            insert_tweet += 1\n",
    "        except Exception as e:\n",
    "            erros_insert_tweet += 1\n",
    "            print(\"Erro inclusão tweet\".center(110,\"*\"))\n",
    "            print(\"Cliente: \" + cliente)\n",
    "            print(\"Tweet id: \" + str(tweet.id))\n",
    "            print(\"Tweet: \" + tweet.text)\n",
    "            print(\"Erro: \" + str(e))"
   ]
  },
  {
   "cell_type": "code",
   "execution_count": 3,
   "metadata": {},
   "outputs": [],
   "source": [
    "consumer_key = 'BxMjvfsli0jcCIYJsSkf2o9oc'\n",
    "consumer_secret = 'aakoZuzuItiPbsoBf0dT0OnNWtnxj3BkF4lwV4gq8EtQxoeLYV'\n",
    "token_key = '116564828-8NwCEcqUlQPLIKiuwL11De2JemFoonQGuIMcEoGM'\n",
    "token_secret = 'TA94ij2YqJxSjwxcTV542wZZffgcYvNykSDQ3ht6ftlOb'\n",
    "\n",
    "auth = tweepy.OAuthHandler(consumer_key, consumer_secret)\n",
    "auth.set_access_token(token_key, token_secret)\n",
    "api = tweepy.API(auth)"
   ]
  },
  {
   "cell_type": "code",
   "execution_count": 4,
   "metadata": {},
   "outputs": [],
   "source": [
    "desde = \"2018-04-01\"\n",
    "ate = \"2018-05-08\""
   ]
  },
  {
   "cell_type": "markdown",
   "metadata": {},
   "source": [
    "# Vila Parque Boliche\n"
   ]
  },
  {
   "cell_type": "code",
   "execution_count": 5,
   "metadata": {},
   "outputs": [
    {
     "name": "stdout",
     "output_type": "stream",
     "text": [
      "*******************************************Resumo do processamento********************************************\n",
      "Total de inserções de tweets: 0\n",
      "Erros de inserção de tweets: 0\n"
     ]
    }
   ],
   "source": [
    "erros_insert_tweet = 0\n",
    "insert_tweet = 0\n",
    "\n",
    "cliente = '8'\n",
    "query = '\"#vilaparqueboliche\" OR \"vila+parque+boliche\" OR \"vilaparqueboliche\" OR \"vila parque boliche\"' \n",
    "geocode_tweet = (\"-20.358658,-40.2938751,20km\")\n",
    "insert_tweets(cliente,query,geocode_tweet,desde,ate)\n",
    "print(\"Resumo do processamento\".center(110,\"*\"))\n",
    "print(\"Total de inserções de tweets: \" + str(insert_tweet))\n",
    "print(\"Erros de inserção de tweets: \" + str(erros_insert_tweet))"
   ]
  },
  {
   "cell_type": "markdown",
   "metadata": {},
   "source": [
    "# Casa Rio Botequim"
   ]
  },
  {
   "cell_type": "code",
   "execution_count": 6,
   "metadata": {},
   "outputs": [
    {
     "name": "stdout",
     "output_type": "stream",
     "text": [
      "**********************************************Registro inserido***********************************************\n",
      "Tweet: em Casa Rio Botequim https://t.co/nKQx0dAk6M\n",
      "**********************************************Registro inserido***********************************************\n",
      "Tweet: em Casa Rio Botequim https://t.co/Gw3U6vi5GB\n",
      "*******************************************Resumo do processamento********************************************\n",
      "Total de inserções de tweets: 2\n",
      "Erros de inserção de tweets: 0\n"
     ]
    }
   ],
   "source": [
    "erros_insert_tweet = 0\n",
    "insert_tweet = 0\n",
    "\n",
    "cliente = '1'\n",
    "query = '\"#casariobotequim\" OR \"casa+rio+botequim\" OR \"casa rio botequim\"' \n",
    "geocode_tweet = (\"-20.357399530876,-40.292925544206,20km\")\n",
    "insert_tweets(cliente,query,geocode_tweet,desde,ate)\n",
    "print(\"Resumo do processamento\".center(110,\"*\"))\n",
    "print(\"Total de inserções de tweets: \" + str(insert_tweet))\n",
    "print(\"Erros de inserção de tweets: \" + str(erros_insert_tweet))"
   ]
  },
  {
   "cell_type": "markdown",
   "metadata": {},
   "source": [
    "# Globo Formula"
   ]
  },
  {
   "cell_type": "code",
   "execution_count": 7,
   "metadata": {},
   "outputs": [
    {
     "name": "stdout",
     "output_type": "stream",
     "text": [
      "*******************************************Resumo do processamento********************************************\n",
      "Total de inserções de tweets: 0\n",
      "Erros de inserção de tweets: 0\n"
     ]
    }
   ],
   "source": [
    "erros_insert_tweet = 0\n",
    "insert_tweet = 0\n",
    "\n",
    "cliente = '7'\n",
    "query = '\"#globoformula\" OR \"globo+formula\" OR \"globoformula\" OR \"@globoformula\"' \n",
    "geocode_tweet = (\"-20.2904544,-40.3537415,20km\")\n",
    "insert_tweets(cliente,query,geocode_tweet,desde,ate)\n",
    "print(\"Resumo do processamento\".center(110,\"*\"))\n",
    "print(\"Total de inserções de tweets: \" + str(insert_tweet))\n",
    "print(\"Erros de inserção de tweets: \" + str(erros_insert_tweet))"
   ]
  },
  {
   "cell_type": "markdown",
   "metadata": {},
   "source": [
    "# Linha Verde Vitoria"
   ]
  },
  {
   "cell_type": "code",
   "execution_count": 8,
   "metadata": {},
   "outputs": [
    {
     "name": "stdout",
     "output_type": "stream",
     "text": [
      "*********************************************Erro inclusão tweet**********************************************\n",
      "Cliente: 6\n",
      "Tweet id: 992194085573316608\n",
      "Tweet: @a_rianea Linha verde seria os ônibus verdinhos?\n",
      "Erro: Object Reacao[new:3] cannot be stored in the database. IntegrityError: UNIQUE constraint failed: Reacao.identificador_fonte\n",
      "*********************************************Erro inclusão tweet**********************************************\n",
      "Cliente: 6\n",
      "Tweet id: 992156630837055488\n",
      "Tweet: @ricardodaher Quinta-feira. 18h30. Da Assembleia Legislativa ao Clube dos Oficiais. Trecho que, de carro, eu já faz… https://t.co/J15MXYZozO\n",
      "Erro: Object Reacao[new:4] cannot be stored in the database. IntegrityError: UNIQUE constraint failed: Reacao.identificador_fonte\n",
      "*********************************************Erro inclusão tweet**********************************************\n",
      "Cliente: 6\n",
      "Tweet id: 991618577051594752\n",
      "Tweet: Esperando a linha verde na terceira ponte pra esmurrar esses burgueses safados\n",
      "Erro: Object Reacao[new:5] cannot be stored in the database. IntegrityError: UNIQUE constraint failed: Reacao.identificador_fonte\n",
      "*********************************************Erro inclusão tweet**********************************************\n",
      "Cliente: 6\n",
      "Tweet id: 991547658048327680\n",
      "Tweet: RT @ricardodaher: @aTribunaES Alô prefeitura @cbnvitoria @VitoriaOnLine @VixNoTransito pq não colocam a linha verde na reta da Penha, na te…\n",
      "Erro: Object Reacao[new:6] cannot be stored in the database. IntegrityError: UNIQUE constraint failed: Reacao.identificador_fonte\n",
      "*********************************************Erro inclusão tweet**********************************************\n",
      "Cliente: 6\n",
      "Tweet id: 991062104970014721\n",
      "Tweet: @ricardodaher Não foi por causa da Linha Verde que, aliás, eu usei e foi realmente ótimo. Em 10 minutos - no maximo - estava em casa.\n",
      "Erro: Object Reacao[new:7] cannot be stored in the database. IntegrityError: UNIQUE constraint failed: Reacao.identificador_fonte\n",
      "*********************************************Erro inclusão tweet**********************************************\n",
      "Cliente: 6\n",
      "Tweet id: 991059001491316736\n",
      "Tweet: Amiguinhos, deixa o tio falar uma coisa com vocês. Vitorinha não tem demanda pra linha verde. Quer evolução desse tipo? Vai pra São Paulo.\n",
      "Erro: Object Reacao[new:8] cannot be stored in the database. IntegrityError: UNIQUE constraint failed: Reacao.identificador_fonte\n",
      "*********************************************Erro inclusão tweet**********************************************\n",
      "Cliente: 6\n",
      "Tweet id: 991055203754561541\n",
      "Tweet: voando na linha verde nessa desgraça de ônibus, obrigado deus e prefeitura de Vitória\n",
      "Erro: Object Reacao[new:9] cannot be stored in the database. IntegrityError: UNIQUE constraint failed: Reacao.identificador_fonte\n",
      "*********************************************Erro inclusão tweet**********************************************\n",
      "Cliente: 6\n",
      "Tweet id: 990909783069876225\n",
      "Tweet: A Linha Verde inseriu o FUNDAMENTAL tema da mobilidade no debate. Talvez de forma atabalhoada, com muitas questões… https://t.co/zbHKoicQg3\n",
      "Erro: Object Reacao[new:10] cannot be stored in the database. IntegrityError: UNIQUE constraint failed: Reacao.identificador_fonte\n",
      "*********************************************Erro inclusão tweet**********************************************\n",
      "Cliente: 6\n",
      "Tweet id: 990909781698318336\n",
      "Tweet: #LinhaVerde: quando o prefeito @LucianoRezende ainda era vereador de Vitória, participei de debates sobre mobilidad… https://t.co/inFvVEbpqT\n",
      "Erro: Object Reacao[new:11] cannot be stored in the database. IntegrityError: UNIQUE constraint failed: Reacao.identificador_fonte\n",
      "*********************************************Erro inclusão tweet**********************************************\n",
      "Cliente: 6\n",
      "Tweet id: 990351442094551040\n",
      "Tweet: @gazetaonline Olha está linha verde tumulto no trânsito fica inevitável\n",
      "Erro: Object Reacao[new:12] cannot be stored in the database. IntegrityError: UNIQUE constraint failed: Reacao.identificador_fonte\n",
      "*******************************************Resumo do processamento********************************************\n",
      "Total de inserções de tweets: 0\n",
      "Erros de inserção de tweets: 10\n"
     ]
    }
   ],
   "source": [
    "erros_insert_tweet = 0\n",
    "insert_tweet = 0\n",
    "\n",
    "cliente = '6'\n",
    "query = '\"#linhaverde\" OR \"linha verde vitoria\" OR \"linha+verde+vitoria\" OR \"linha verde\"' \n",
    "geocode_tweet = (\"-20.2904544,-40.3537415,50km\")\n",
    "insert_tweets(cliente,query,geocode_tweet,desde,ate)\n",
    "print(\"Resumo do processamento\".center(110,\"*\"))\n",
    "print(\"Total de inserções de tweets: \" + str(insert_tweet))\n",
    "print(\"Erros de inserção de tweets: \" + str(erros_insert_tweet))"
   ]
  },
  {
   "cell_type": "raw",
   "metadata": {},
   "source": [
    "searchQuery = 'place:96683cc9126741d1 #teammystic OR #teaminstinct OR #teamvalor OR' \\\n",
    "              '#teamblue OR #teamyellow OR #teamred OR' \\\n",
    "              '#mystic OR #valor OR #instinct OR' \\\n",
    "              '\"team mystic\" OR \"team valor\" OR \"team instinct\"'\n",
    "            \n",
    "query = '\"#casariobotequim\"'\n",
    "max_tweets = 3\n",
    "searched_tweets = [status for status in tweepy.Cursor(api.search, q='vitorghiotti').items(max_tweets)]\n",
    "\n",
    "searched_tweets"
   ]
  }
 ],
 "metadata": {
  "anaconda-cloud": {},
  "kernelspec": {
   "display_name": "Python 3",
   "language": "python",
   "name": "python3"
  },
  "language_info": {
   "codemirror_mode": {
    "name": "ipython",
    "version": 3
   },
   "file_extension": ".py",
   "mimetype": "text/x-python",
   "name": "python",
   "nbconvert_exporter": "python",
   "pygments_lexer": "ipython3",
   "version": "3.6.4"
  }
 },
 "nbformat": 4,
 "nbformat_minor": 1
}
