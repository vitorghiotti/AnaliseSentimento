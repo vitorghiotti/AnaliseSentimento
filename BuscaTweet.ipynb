{
 "cells": [
  {
   "cell_type": "code",
   "execution_count": 1,
   "metadata": {
    "scrolled": true
   },
   "outputs": [],
   "source": [
    "#!pip install tweepy\n",
    "#!pip install orm\n",
    "#!pip install pony\n",
    "\n",
    "import tweepy\n",
    "import time\n",
    "import sys\n",
    "import db_reacao\n",
    "import numpy as np\n",
    "from pony import orm\n",
    "from datetime import datetime"
   ]
  },
  {
   "cell_type": "code",
   "execution_count": 2,
   "metadata": {
    "collapsed": true
   },
   "outputs": [],
   "source": [
    "consumer_key = '4ojpF4u6eBXtpVmMBMMczSkGq'\n",
    "consumer_secret = 'n6dJDhpOqMqg6ncmkSuH1hnB9wZHJkh8uatNOP9T8cWwQD3MYK'\n",
    "token_key = '116564828-nf9nt8Peq8ULY4Ul3jcz0YLJwJpf4tzIpL5JPkJL'\n",
    "token_secret = 'ZaOm5YqDyAnAz0yHNXAk5aQc2A7kagi56DjzmMdBOc7SJ'"
   ]
  },
  {
   "cell_type": "code",
   "execution_count": 3,
   "metadata": {
    "collapsed": true
   },
   "outputs": [],
   "source": [
    "auth = tweepy.OAuthHandler(consumer_key, consumer_secret)\n",
    "auth.set_access_token(token_key, token_secret)\n",
    "api = tweepy.API(auth)"
   ]
  },
  {
   "cell_type": "code",
   "execution_count": 4,
   "metadata": {
    "collapsed": true
   },
   "outputs": [],
   "source": [
    "desde = \"2018-03-16\"\n",
    "ate = \"2018-03-17\"\n",
    "query = '\"bolsonaro\" OR \"casa+rio+botequim\"' \n",
    "#query = '\"playoff\"' "
   ]
  },
  {
   "cell_type": "code",
   "execution_count": 5,
   "metadata": {},
   "outputs": [
    {
     "name": "stdout",
     "output_type": "stream",
     "text": [
      "2018-03-16 23:46:01 Eu lembrei de mim e Gabriel olhando as foto no celular dele e meu KKKKKKKKKK MANO ELA APOIA O BOLSONARO , Á TOMEI R… https://t.co/FLpy8FfSiI\n",
      "2018-03-16 23:30:02 Bicho, aparentemente metade da minha sala ou mais é eleitor de bolsonaro e hoje eu falei diversas merdas do tipo \"B… https://t.co/m8AwM3IdHh\n",
      "2018-03-16 23:19:47 Fã do Bolsonaro nem é gente\n",
      "2018-03-16 22:57:57 É tão triste quando um amigo teu é fã de bolsonaro. Tu começa a criar um ranço por ele mesmo o cara nunca ter feito nada contigo\n",
      "2018-03-16 22:47:37 @folha Bolsonaro: defendo privatizações, menos impostos, menos burocracias, o porte de armas, os valores morais da… https://t.co/axHy0to4ug\n",
      "2018-03-16 22:42:52 @folha O cara simplesmente passa todo o governo do PSDB e PT usando e abusando do BNDES e sendo amiguinho deles, vê… https://t.co/XqujlmAVt5\n",
      "2018-03-16 22:41:27 @Guil2m @EsleiSep @lucasfhe @VozPalestrina_ @Vilelafut @anaccromero @Osincer08834428 @marcao_galera @FelipeFenner… https://t.co/eIoyYvfrsr\n",
      "2018-03-16 22:34:37 eu digo isso, pq eu e muitas pessoas falamos muito sobre as opiniões do bolsonaro e isso acaba fazendo ele chegar a… https://t.co/yXFc3cAZgD\n",
      "2018-03-16 22:23:54 Eu tenho um carinho e um respeito enorme por quem compartilha dos mesmos princípios e ideais que os Bolsonaro’s ❤️ #TuiteUmaMentira\n",
      "2018-03-16 22:03:33 @Gabirusjr sou um crítico de bolsonaro, mas não me impede de amanhã ou depois eu vote nele.\n",
      "2018-03-16 22:02:15 Achava que não tinha como piorar minha opinião sobre Bolsonaro até ler o que ele propaga sobre excludente de ilicit… https://t.co/3RApTywkCT\n",
      "2018-03-16 21:41:42 RT @JoabArnaldo: Toda vez que vejo alguém chamando o Bolsonaro de mito me dá ânsia. E quando é um amigo eu me pergunto onde falhei 😂\n",
      "2018-03-16 21:12:59 ta tudo dandoc erto nessa buceta hoje que nem meu cabelo eu consegui cortar caralho cu porra buceta xota pinto perereca bolsonaro\n",
      "2018-03-16 20:51:30 @BlogdoNoblat Está sem assunto? Parece um lunático ou um apaixonado pelo bolsonaro\n",
      "2018-03-16 19:51:18 A coisa mais engraçada é \"se fosse o Bolsonaro\" hahahah os caras mais covardes de meio comum da política, não enfrentam nem par ou ímpar.\n",
      "2018-03-16 19:49:56 Toda vez que vejo alguém chamando o Bolsonaro de mito me dá ânsia. E quando é um amigo eu me pergunto onde falhei 😂\n",
      "2018-03-16 19:47:07 RT @Andre50Moreira: Dizem que enquanto houver cavalo, São Jorge  nao anda a pé. Bolsonaro é um malandro que engana um monte de otario! http…\n",
      "2018-03-16 19:46:30 Dizem que “enquanto houver cavalo, São Jorge  nao anda a pé”. Bolsonaro é um malandro que engana um monte de otário! https://t.co/uVd4fdQ943\n",
      "2018-03-16 19:45:09 Dizem que enquanto houver cavalo, São Jorge  nao anda a pé. Bolsonaro é um malandro que engana um monte de otario! https://t.co/4e40QmgrBu\n",
      "2018-03-16 19:28:15 @LpVinicin Véi kkkk ninguém comemora morte de ninguém, e tanto não tem a ver com direita ou esquerda que Eduardo Bo… https://t.co/w92O6KGfx2\n",
      "2018-03-16 19:07:35 Lula ou Bolsonaro? — Bolsonaro https://t.co/5gXEdO8N0x\n",
      "2018-03-16 17:55:29 @mamaefalei @YouTube ae Arthur quem é bom? O Holiday do lado do Rodrigo Maia? Tá tentando achar uma falha em Bolson… https://t.co/X1HnWQTf2P\n",
      "2018-03-16 17:47:45 @BlogdoNoblat Rapaz, confessa que é apaixonado pelo Bolsonaro, compra uma camiseta dele, vai ser feliz! Pqp...\n",
      "2018-03-16 17:30:57 @delucca Nem mesmo o seu colega de trabalho, o vereador e lixo humano Carlos Bolsonaro, teve coragem ou ao menos ho… https://t.co/7p4SVywBWR\n",
      "2018-03-16 17:26:31 Carreata p bolsonaro aqui em smj kkkkkk era só o que faltava mesmo\n",
      "2018-03-16 17:13:04 Vereadora #MarielleFranco com um ano fez mais que os 30 de #Bolsonaro. Que vergonha!\n",
      "#MariellePresente… https://t.co/QSMByWCbbO\n",
      "2018-03-16 17:08:01 Gostei de um vídeo @YouTube https://t.co/czosWqKZV3 Bolsonaro no Twitter\n",
      "2018-03-16 17:05:27 Gostei de um vídeo @YouTube https://t.co/U6BIV8d9KS Bolsonaro no Twitter\n",
      "2018-03-16 16:37:43 minha namorada não me ama mais pq eu não discordo em algumas coisas com o Bolsonaro\n",
      "2018-03-16 16:14:17 RT @WagnerBambirra: @folha \"Nada nesse país valoriza\"...\n",
      " Com Aécio e Bolsonaro é diferente os patrimônios dos caras são outros 500.\n",
      "2018-03-16 16:12:56 @cacaasputas_042 @lauro_maionese @Estadao @marcelorubens @benebarbosa_mvb Para encerrar o assunto: essa aqui é uma… https://t.co/FuGCKHrAKu\n",
      "2018-03-16 15:51:38 Bolsonaro ou Lula? — Lula na cadeia, bolsonaro 2018 https://t.co/aBK65UWtRz\n",
      "2018-03-16 15:18:45 RT @rsf_servullo: @jovensreacinhas Bolsonaro, MBL, seus seguidores e suas opiniões. Coincidência? https://t.co/xDBslCJ0SZ\n",
      "2018-03-16 15:13:44 @kimpkat Podem contar com minha contribuição. Não da p votar n sou SP. Mas $$ vou sim. Eu prefiro mil vezes eles, d… https://t.co/NBC1XF7ia6\n",
      "2018-03-16 15:12:53 @rodsampa @Estadao Pra vc, advogado medíocre,cidadao lixo, que não entende um pingo sobre segurança pública, tal co… https://t.co/I0RCrc2y8x\n",
      "2018-03-16 15:10:04 Só uma pessoa é mais burra que o Jair Bolsonaro: o filho dele. https://t.co/ZB7Kwbe6c2\n",
      "2018-03-16 15:01:32 As personas aristotélicas e a política brasileira:\n",
      "Pros meus colegas \"de esquerda\" eu voto no bolsonaro. Pra aquele… https://t.co/UxviOgJfRT\n",
      "2018-03-16 14:53:48 Bolsonaro seria mais aceito pela população se ele fosse isso tudo que é mas fosse também contra a corrupção abertam… https://t.co/3ZMrNyv9g8\n",
      "2018-03-16 14:31:18 Bolsonaro votou a favor da intervenção mas explicou que era contra pela forma como foi, a esquerda vai relativizar… https://t.co/au4xylRfIZ\n",
      "2018-03-16 14:10:22 se bolsonaro ganhar 2019 eu vou preso... primeiro a q alguém falar cmg já dou uns 5 tiros na cabeça logo\n",
      "2018-03-16 13:59:47 E nisso, o q deve ter d vascaino e eleitor de Bolsonaro comemorando ainda mais a morte da mulher, por ela ser rubro negra n deve ser pouco\n",
      "2018-03-16 13:48:39 Se vc vota, fala em votar ou vê em Bolsonaro alguma esperança, saiba que vc é mais um apoiador disso tudo, mesmo q indiretamente.\n",
      "2018-03-16 13:34:15 Alguns policiais bem que poderiam \"assaltar\" o Bolsonaro\n",
      "2018-03-16 13:24:01 Achei que Bolsonaro ia se manifestar pela morte da vereadora já que no seu discurso fala tanto de segurança, devia falar algo...\n",
      "2018-03-16 13:13:42 Por que Bolsonaro se silencia sobre o assassinato de Merielle?\n",
      "2018-03-16 12:55:23 @nopontodofato @PauloMartins10 BOLSONARO ...2018. PRA TENTAR RESOLVER SITUACOES COMO ESSA.\n",
      "2018-03-16 12:43:14 RT @arthuraloh: Eu não to aguentando mais essa rede social chamada Facebook, é crente distribuindo ódio contra todo mundo, é bolsonaro, é c…\n",
      "2018-03-16 12:35:13 Eu toda vez que o meu colega de trabalho diz Bolsonaro na cabeça https://t.co/vf4GA0W8e3\n",
      "2018-03-16 12:11:22 O eleitor do bolsonaro daqui da sala metendo o pau nos direitos humanos, nada de novo né non\n",
      "2018-03-16 11:56:56 Eu não to aguentando mais essa rede social chamada Facebook, é crente distribuindo ódio contra todo mundo, é bolson… https://t.co/AvjNIvKG3w\n",
      "2018-03-16 11:44:15 ENTREVISTA EXCLUSIVA DO BOLSONARO AO ESTADÃO https://t.co/DvDyw9bjjk\n",
      "2018-03-16 11:43:03 @folha \"Nada nesse país valoriza\"...\n",
      " Com Aécio e Bolsonaro é diferente os patrimônios dos caras são outros 500.\n",
      "2018-03-16 11:39:21 vai votar em quem? e pq bolsonaro? —  https://t.co/d6CCt81j2X\n",
      "2018-03-16 11:32:18 BOLSONARO x Pingo Nos Is https://t.co/KoYc9ySMSg\n",
      "2018-03-16 10:57:56 RT @LuanSperandio: @jeffs_araujo35 Meirelles não fala sobre segurança pública; Bolsonaro surgiu tendo como principal pauta a segurança públ…\n",
      "2018-03-16 10:48:09 @jeffs_araujo35 Já escrevi sobre o duplo padrão da imprensa em relação a Jair - e como isso o ajuda;\n",
      "\n",
      "mas acho que… https://t.co/h2S3rrE38E\n",
      "2018-03-16 10:47:10 A opinião dele provavelmente seria a de milhares de brasileiros. 1 morte não pode ser maior que a de milhares de pe… https://t.co/TfpnKTeinL\n",
      "2018-03-16 10:41:45 @jeffs_araujo35 Meirelles não fala sobre segurança pública; Bolsonaro surgiu tendo como principal pauta a segurança… https://t.co/k6j5r0xA0S\n",
      "2018-03-16 09:06:42 @BlogdoNoblat @Claudiojmello Se fosse alguém da família do Bolsonaro, não teria uma palavra da mídia, artistas e 99% dos políticos\n",
      "2018-03-16 05:53:58 @edi_rossetto @oiluiz Agora querem matar Bolsonaro por causa da morte da vereadora do PSOL\n",
      "2018-03-16 03:30:29 RT @rsf_servullo: @jovensreacinhas Bolsonaro, MBL, seus seguidores e suas opiniões. Coincidência? https://t.co/xDBslCJ0SZ\n"
     ]
    },
    {
     "name": "stdout",
     "output_type": "stream",
     "text": [
      "2018-03-16 02:51:45 RT @jardimdoedemm: @missofblack E da pra broxar de forma permanente, é só o cara falar “Bolsonaro presidente”.\n",
      "2018-03-16 02:50:19 @gustavoagusto2 sai daqui eleitor de bolsonaro risus\n",
      "2018-03-16 02:49:33 @missofblack E da pra broxar de forma permanente, é só o cara falar “Bolsonaro presidente”.\n",
      "2018-03-16 02:00:09 @jessicaloureiro Pois é vei, é triste na moral, tá pregando o amor de Deus aí. Pior que tipo já tinha visto umas pa… https://t.co/tW67zenPpI\n",
      "2018-03-16 01:56:22 @folha Bolsonaro é burro, mas nem tanto. Ele sabe que qualquer coisa que diga - porque tudo o que diz - irá depor c… https://t.co/tzxmvkA1Qv\n",
      "2018-03-16 01:31:08 @odiodobem Eu não posso criticar o cara por preferir q fosse Bolsonaro, não tenho moral p isso, pois eu também pref… https://t.co/TRV7TUWdGi\n",
      "2018-03-16 01:17:29 meu pai é bem tosco as vezes mas hj ele foi super correto falando da Marielle e de bônus ainda esmurrou o Bolsonaro, ganhei minha noite\n",
      "2018-03-16 01:14:34 Opinião de Bolsonaro sobre morte de Marielle seria polêmica demais, diz assessor\n",
      "\n",
      "https://t.co/ZXjKnIrlJu https://t.co/thLRhgUrPb\n",
      "2018-03-16 01:02:11 @ValmorNeto @folha Bolsonaro já sabe que a cota de opiniões merdas dos retardados seguidores dele sobre o crime est… https://t.co/AzgJjSvO2i\n",
      "2018-03-16 00:47:25 Toda vez que eu penso que o Bolsonaro é uma metralhadora de bosta, eu lembro que existe o filho que consegue ser ai… https://t.co/fcVULCZ2Bn\n",
      "2018-03-16 00:15:31 Minuto Folha: manifestação contra morte de vereadora carioca e nova visita de Bolsonaro ao ES: https://t.co/qy3SAqV3Bg via @YouTube\n"
     ]
    }
   ],
   "source": [
    "for tweet in tweepy.Cursor (api.search,\n",
    "                            q = query ,\n",
    "                            #rpp = 1,\n",
    "                            locale = \"pt-br\",\n",
    "                            #page = 2,\n",
    "                            #result_type=\"recent\",\n",
    "                            include_entities = True ,\n",
    "                            lang = \" pt \",\n",
    "                            #count=2,\n",
    "                            geocode = (\"-20.357491,-40.293576,20km\"),\n",
    "                            since = desde,\n",
    "                            until = ate,\n",
    "                            show_user = True).items ():\n",
    "    time.sleep(abs(np.random.normal(2, 1, 1))[0])\n",
    "    db_reacao.add_reacao_tweet(1,1,tweet, 0,int(time.mktime(tweet.created_at.timetuple())),str(tweet.id))\n",
    "    print(tweet.created_at, tweet.text)"
   ]
  },
  {
   "cell_type": "code",
   "execution_count": null,
   "metadata": {
    "collapsed": true
   },
   "outputs": [],
   "source": []
  }
 ],
 "metadata": {
  "kernelspec": {
   "display_name": "Python 3",
   "language": "python",
   "name": "python3"
  },
  "language_info": {
   "codemirror_mode": {
    "name": "ipython",
    "version": 3
   },
   "file_extension": ".py",
   "mimetype": "text/x-python",
   "name": "python",
   "nbconvert_exporter": "python",
   "pygments_lexer": "ipython3",
   "version": "3.6.4"
  }
 },
 "nbformat": 4,
 "nbformat_minor": 1
}
