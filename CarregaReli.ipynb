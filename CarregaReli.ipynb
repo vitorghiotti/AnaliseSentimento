{
 "cells": [
  {
   "cell_type": "code",
   "execution_count": null,
   "metadata": {},
   "outputs": [],
   "source": [
    "!pip install pony"
   ]
  },
  {
   "cell_type": "code",
   "execution_count": 1,
   "metadata": {},
   "outputs": [],
   "source": [
    "#!pip install orm\n",
    "#!pip install pony\n",
    "import re\n",
    "import time\n",
    "import db_tweet\n",
    "import sqlite3"
   ]
  },
  {
   "cell_type": "code",
   "execution_count": null,
   "metadata": {},
   "outputs": [],
   "source": [
    "def carrega_base(arquivo):\n",
    "    frases={}\n",
    "    \n",
    "    print(\"INICIO \" + arquivo)\n",
    "    f = open(arquivo, \"r\")\n",
    "    data = f.read()\n",
    "    rows = data.split('\\n')\n",
    "\n",
    "    frase = \"\"\n",
    "    sentimento_dic = {\"+\":1, \"O\":0, \"-\":-1}\n",
    "    sentimento = \"\"\n",
    "    vet = []\n",
    "\n",
    "    for l in range(0,len(rows)):\n",
    "    #for l in range(0,250):\n",
    "        if len(rows[l])>0:             \n",
    "            if rows[l][0]!='#' and rows[l][0]!='[':\n",
    "                vet = rows[l].split(\"\\t\")\n",
    "                if len(vet) == 6:\n",
    "                    if len(vet[0])>1:\n",
    "                        if vet[1]!='NPROP':\n",
    "                            frase = frase + vet[0] + \" \"   \n",
    "                            sentimento = vet[4]\n",
    "                        else:\n",
    "                            #print(vet[0])\n",
    "                            1==1\n",
    "                    else:\n",
    "                        #print(vet)\n",
    "                        1==1\n",
    "                else:\n",
    "                    #print(vet)\n",
    "                    1==1\n",
    "\n",
    "        else:\n",
    "            if len(frase)>0:\n",
    "                if len(frase.strip().split(\" \"))>2:\n",
    "                    if frases.get(frase)==None:\n",
    "                        frases[frase]=True\n",
    "                        #print(frases)\n",
    "                        db_tweet.add_tweet_no_id(frase, int(sentimento_dic.get(sentimento)))\n",
    "                    else:\n",
    "                        #print(frase)\n",
    "                        1==1\n",
    "                else:\n",
    "                    db_tweet.add_tweet_no_id(frase, int(sentimento_dic.get(sentimento)))\n",
    "                    1==1\n",
    "                #print(frase.split(\" \"))\n",
    "                #db_tweet.add_tweet_no_id(frase, int(sentimento_dic.get(sentimento)))\n",
    "                #print(\"Frase nro \" + str(l) + \": \" + frase + sentimento_dic.get(sentimento))\n",
    "                #print(frase)\n",
    "                #print(str(l/len(rows)))\n",
    "            frase = \"\"\n",
    "\n",
    "    print(\"FIM \" + arquivo)"
   ]
  },
  {
   "cell_type": "code",
   "execution_count": null,
   "metadata": {},
   "outputs": [],
   "source": [
    "lista = [\"./ReLi-Lex/ReLi-Sheldon.txt\",\"./ReLi-Lex/ReLi-Saramago.txt\",\"./ReLi-Lex/ReLi-Salinger.txt\",\"./ReLi-Lex/ReLi-Amado.txt\",\"./ReLi-Lex/ReLi-Meyer.txt\",\"./ReLi-Lex/ReLi-Orwell.txt\",\"./ReLi-Lex/ReLi-Reboucas.txt\"]"
   ]
  },
  {
   "cell_type": "code",
   "execution_count": null,
   "metadata": {},
   "outputs": [],
   "source": [
    "for l in range(0,len(lista)):\n",
    "    carrega_base(lista[l])"
   ]
  },
  {
   "cell_type": "code",
   "execution_count": 3,
   "metadata": {},
   "outputs": [],
   "source": [
    "conn = sqlite3.connect('tweets.sqlite')"
   ]
  },
  {
   "cell_type": "code",
   "execution_count": 7,
   "metadata": {},
   "outputs": [
    {
     "name": "stdout",
     "output_type": "stream",
     "text": [
      "('rs',)\n",
      "('atras',)\n",
      "('aspas',)\n",
      "('apos',)\n",
      "('antes',)\n",
      "('alas',)\n",
      "('ademais',)\n",
      "('quantas',)\n",
      "('vamos',)\n",
      "('eses',)\n",
      "('esses',)\n",
      "('vezes',)\n",
      "('damos',)\n",
      "('queremos',)\n",
      "('apenas',)\n",
      "('duas',)\n",
      "('dois',)\n",
      "('atraves',)\n",
      "('caos',)\n",
      "('demais',)\n",
      "('ambos',)\n",
      "('detras',)\n"
     ]
    }
   ],
   "source": [
    "cur = conn.cursor()\n",
    "cur.execute(\"SELECT de FROM excessoes where tipo = 'pl'\")\n",
    "#ur.execute(\"SELECT * FROM tweet where id = 130991\")\n",
    "inpSentence = cur.fetchall()\n",
    "\n",
    "for row in inpSentence:\n",
    "    print(row)\n",
    "\n"
   ]
  },
  {
   "cell_type": "code",
   "execution_count": 17,
   "metadata": {},
   "outputs": [
    {
     "data": {
      "text/plain": [
       "[('rs',),\n",
       " ('atras',),\n",
       " ('aspas',),\n",
       " ('apos',),\n",
       " ('antes',),\n",
       " ('alas',),\n",
       " ('ademais',),\n",
       " ('quantas',),\n",
       " ('vamos',),\n",
       " ('eses',),\n",
       " ('esses',),\n",
       " ('vezes',),\n",
       " ('damos',),\n",
       " ('queremos',),\n",
       " ('apenas',),\n",
       " ('duas',),\n",
       " ('dois',),\n",
       " ('atraves',),\n",
       " ('caos',),\n",
       " ('demais',),\n",
       " ('ambos',),\n",
       " ('detras',)]"
      ]
     },
     "execution_count": 17,
     "metadata": {},
     "output_type": "execute_result"
    }
   ],
   "source": [
    "inpSentence[0:]"
   ]
  },
  {
   "cell_type": "code",
   "execution_count": 14,
   "metadata": {},
   "outputs": [
    {
     "data": {
      "text/plain": [
       "('r', 's')"
      ]
     },
     "execution_count": 14,
     "metadata": {},
     "output_type": "execute_result"
    }
   ],
   "source": [
    "tuple(str('rs'))"
   ]
  },
  {
   "cell_type": "code",
   "execution_count": 2,
   "metadata": {},
   "outputs": [
    {
     "ename": "NameError",
     "evalue": "name 'conn' is not defined",
     "output_type": "error",
     "traceback": [
      "\u001b[0;31m---------------------------------------------------------------------------\u001b[0m",
      "\u001b[0;31mNameError\u001b[0m                                 Traceback (most recent call last)",
      "\u001b[0;32m<ipython-input-2-0c8730833e8e>\u001b[0m in \u001b[0;36m<module>\u001b[0;34m()\u001b[0m\n\u001b[0;32m----> 1\u001b[0;31m \u001b[0mcur\u001b[0m \u001b[0;34m=\u001b[0m \u001b[0mconn\u001b[0m\u001b[0;34m.\u001b[0m\u001b[0mcursor\u001b[0m\u001b[0;34m(\u001b[0m\u001b[0;34m)\u001b[0m\u001b[0;34m\u001b[0m\u001b[0m\n\u001b[0m\u001b[1;32m      2\u001b[0m \u001b[0mcur\u001b[0m\u001b[0;34m.\u001b[0m\u001b[0mexecute\u001b[0m\u001b[0;34m(\u001b[0m\u001b[0;34m\"SELECT * FROM tweet where tweet_id = '0' and text like '%não%inútil%'\"\u001b[0m\u001b[0;34m)\u001b[0m\u001b[0;34m\u001b[0m\u001b[0m\n\u001b[1;32m      3\u001b[0m \u001b[0;31m#ur.execute(\"SELECT * FROM tweet where id = 130991\")\u001b[0m\u001b[0;34m\u001b[0m\u001b[0;34m\u001b[0m\u001b[0m\n\u001b[1;32m      4\u001b[0m \u001b[0minpSentence\u001b[0m \u001b[0;34m=\u001b[0m \u001b[0mcur\u001b[0m\u001b[0;34m.\u001b[0m\u001b[0mfetchall\u001b[0m\u001b[0;34m(\u001b[0m\u001b[0;34m)\u001b[0m\u001b[0;34m\u001b[0m\u001b[0m\n\u001b[1;32m      5\u001b[0m \u001b[0;34m\u001b[0m\u001b[0m\n",
      "\u001b[0;31mNameError\u001b[0m: name 'conn' is not defined"
     ]
    }
   ],
   "source": [
    "cur = conn.cursor()\n",
    "cur.execute(\"SELECT * FROM tweet where tweet_id = '0' and text like '%não%inútil%'\")\n",
    "#ur.execute(\"SELECT * FROM tweet where id = 130991\")\n",
    "inpSentence = cur.fetchall()\n",
    "\n",
    "for row in inpSentence:\n",
    "    print(row)\n",
    "\n"
   ]
  },
  {
   "cell_type": "code",
   "execution_count": 14,
   "metadata": {},
   "outputs": [],
   "source": [
    "cur = conn.cursor()\n",
    "cur.execute(\"update tweet set sentiment=1, tweet_id = '0' where id = 51234\").fetchone()\n",
    "conn.commit()"
   ]
  },
  {
   "cell_type": "code",
   "execution_count": null,
   "metadata": {},
   "outputs": [],
   "source": []
  }
 ],
 "metadata": {
  "kernelspec": {
   "display_name": "Python 3",
   "language": "python",
   "name": "python3"
  },
  "language_info": {
   "codemirror_mode": {
    "name": "ipython",
    "version": 3
   },
   "file_extension": ".py",
   "mimetype": "text/x-python",
   "name": "python",
   "nbconvert_exporter": "python",
   "pygments_lexer": "ipython3",
   "version": "3.6.4"
  }
 },
 "nbformat": 4,
 "nbformat_minor": 1
}
