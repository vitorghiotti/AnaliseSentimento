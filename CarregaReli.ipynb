{
 "cells": [
  {
   "cell_type": "code",
   "execution_count": null,
   "metadata": {},
   "outputs": [],
   "source": [
    "!pip install pony"
   ]
  },
  {
   "cell_type": "code",
   "execution_count": 2,
   "metadata": {},
   "outputs": [],
   "source": [
    "#!pip install orm\n",
    "#!pip install pony\n",
    "import re\n",
    "import time\n",
    "import db_tweet\n",
    "import sqlite3"
   ]
  },
  {
   "cell_type": "code",
   "execution_count": null,
   "metadata": {},
   "outputs": [],
   "source": [
    "def carrega_base(arquivo):\n",
    "    frases={}\n",
    "    \n",
    "    print(\"INICIO \" + arquivo)\n",
    "    f = open(arquivo, \"r\")\n",
    "    data = f.read()\n",
    "    rows = data.split('\\n')\n",
    "\n",
    "    frase = \"\"\n",
    "    sentimento_dic = {\"+\":1, \"O\":0, \"-\":-1}\n",
    "    sentimento = \"\"\n",
    "    vet = []\n",
    "\n",
    "    for l in range(0,len(rows)):\n",
    "    #for l in range(0,250):\n",
    "        if len(rows[l])>0:             \n",
    "            if rows[l][0]!='#' and rows[l][0]!='[':\n",
    "                vet = rows[l].split(\"\\t\")\n",
    "                if len(vet) == 6:\n",
    "                    if len(vet[0])>1:\n",
    "                        if vet[1]!='NPROP':\n",
    "                            frase = frase + vet[0] + \" \"   \n",
    "                            sentimento = vet[4]\n",
    "                        else:\n",
    "                            #print(vet[0])\n",
    "                            1==1\n",
    "                    else:\n",
    "                        #print(vet)\n",
    "                        1==1\n",
    "                else:\n",
    "                    #print(vet)\n",
    "                    1==1\n",
    "\n",
    "        else:\n",
    "            if len(frase)>0:\n",
    "                if len(frase.strip().split(\" \"))>2:\n",
    "                    if frases.get(frase)==None:\n",
    "                        frases[frase]=True\n",
    "                        #print(frases)\n",
    "                        db_tweet.add_tweet_no_id(frase, int(sentimento_dic.get(sentimento)))\n",
    "                    else:\n",
    "                        #print(frase)\n",
    "                        1==1\n",
    "                else:\n",
    "                    db_tweet.add_tweet_no_id(frase, int(sentimento_dic.get(sentimento)))\n",
    "                    1==1\n",
    "                #print(frase.split(\" \"))\n",
    "                #db_tweet.add_tweet_no_id(frase, int(sentimento_dic.get(sentimento)))\n",
    "                #print(\"Frase nro \" + str(l) + \": \" + frase + sentimento_dic.get(sentimento))\n",
    "                #print(frase)\n",
    "                #print(str(l/len(rows)))\n",
    "            frase = \"\"\n",
    "\n",
    "    print(\"FIM \" + arquivo)"
   ]
  },
  {
   "cell_type": "code",
   "execution_count": null,
   "metadata": {},
   "outputs": [],
   "source": [
    "lista = [\"./ReLi-Lex/ReLi-Sheldon.txt\",\"./ReLi-Lex/ReLi-Saramago.txt\",\"./ReLi-Lex/ReLi-Salinger.txt\",\"./ReLi-Lex/ReLi-Amado.txt\",\"./ReLi-Lex/ReLi-Meyer.txt\",\"./ReLi-Lex/ReLi-Orwell.txt\",\"./ReLi-Lex/ReLi-Reboucas.txt\"]"
   ]
  },
  {
   "cell_type": "code",
   "execution_count": null,
   "metadata": {},
   "outputs": [],
   "source": [
    "for l in range(0,len(lista)):\n",
    "    carrega_base(lista[l])"
   ]
  },
  {
   "cell_type": "code",
   "execution_count": 2,
   "metadata": {},
   "outputs": [],
   "source": [
    "conn = sqlite3.connect('tweets.sqlite')"
   ]
  },
  {
   "cell_type": "code",
   "execution_count": 12,
   "metadata": {},
   "outputs": [
    {
     "name": "stdout",
     "output_type": "stream",
     "text": [
      "(119486, '0', 'Foi outro lado de meia noite que me abriram as portas de mundo de leitura de qual não consegui mais sair nem quero', 1)\n",
      "(119609, '0', 'Quero ver filme também', 0)\n",
      "(119948, '0', 'Me surpreendi bastante tem uma história interessante com um gostinho de quero mais', 1)\n",
      "(120180, '0', 'Gostei de livro adorei principal ... uma familia cheio de doidos mas vale pena ler entender que eu quero dizer', 1)\n",
      "(120444, '0', 'Um livro instigante uma história com sabor de quero mais aventuras vingança romance um pouco de que se pode esperar de obra de magnífico ...', 1)\n",
      "(120449, '0', 'Todos os personagens são bons enredo te engana quando você pensa que historia para ali fica ainda melhor toma uma proporção que não imaginava claro em final deixa aquele gostinho de quero mais', 1)\n",
      "(120508, '0', 'Pra inicio de conversa Não quero dizer que livro só se torna bom em página 170 ele ótimo de inicio fim mas fato ele só realmente toma seu corpo em página 170', 1)\n",
      "(120559, '0', 'em fim ... vc fica com um sorriso bobo estampado em rosto um gosto de quero mais', 1)\n",
      "(120618, '0', 'Não deixou nada dever ação romance foram muito bem preenchidos temos um final divertido com gostinho de quero mais', 1)\n",
      "(120638, '0', 'Pq se tiver eu com certeza quero assistir =p', 0)\n",
      "(120689, '0', 'muito em passado agora retornei lendo sempre gostei de os livros de ele agora que recomecei ler não quero parar', 0)\n",
      "(121271, '0', 'Quero aproveitar oportunidade sou uma oportunista eu sei para indicar filme de obra em inglês dirigido por brasileiro mas antes eu aconselho lerem livro primeiro depois assistirem filme', 0)\n",
      "(121329, '0', 'ainda complementa Este um livro francamente terrível com qual eu quero que leitor sofra tanto como eu sofri escrevê lo', 0)\n",
      "(121502, '0', 'mostra as reacções de ser humano as necessidades incapacidade impotência desprezo abandono nos faz também refletir sobre moral costumes ética preconceito através de os olhos de personagem principal mulher de médico que se depara longo de narrativa com situações inadmissíveis mata para se preservar os demais depara se com morte de maneiras bizarras como cadáveres espalhados por as ruas incêndios após saída de hospício entrar em uma igreja presencia um cenário em que todos os santos se encontram vendados se os céus não vêem que ninguém veja ... Segundo próprio escritor Este um livro francamente terrível com qual eu quero que leitor sofra tanto como eu sofri escrevê lo', 0)\n",
      "(121927, '0', 'os olhos de autor Este um livro francamente terrível com qual eu quero que leitor sofra tanto como eu sofri escrevê lo', 0)\n",
      "(121986, '0', 'Quero ler livro', 0)\n",
      "(122191, '0', 'Muito legal abandonei por causa de os trabalhos de faculdade peguei emprestado em biblioteca mas ainda quero terminar', 1)\n",
      "(122758, '0', 'Às vezes eu quero fechar os olhos para toda sujeira em minha volta', 0)\n",
      "(122759, '0', 'Quero fechar os olhos para burocracia incompreensão corrupção burrice incompetência falta de amor excesso de amor pobreza ganância', 0)\n",
      "(122761, '0', 'Não quero ter que olhar para lado ver que meu colega que faz mesma coisa que eu ganha mais ou menos', 0)\n",
      "(122762, '0', 'Não quero olhar para baixo ver mendigo com uma ferida aberta', 0)\n",
      "(122763, '0', 'Não quero ver os olhos de aquele que sofre', 0)\n",
      "(122764, '0', 'Não quero olhar para cima mesmo com os olhos bem abertos não conseguir enxergar céu', 0)\n",
      "(122765, '0', 'Não quero olhar para frente só para te ver partindo', 0)\n",
      "(122766, '0', 'Não quero ver as rugas em espelho nem os ponteiros de balança', 0)\n",
      "(122952, '0', 'Faz um bom tempo que quero ler este livro', 0)\n",
      "(122967, '0', 'Eu também um dia quero ser um apanhador que pega criancinhas de abismos sem fundo', 0)\n",
      "(123146, '0', 'Claro que não irei mencioná las não quero me envergonhar muito menos envergonhar quem estará lendo', 0)\n",
      "(123497, '0', 'mas bem não sobre isso que eu quero falar', 0)\n",
      "(124966, '0', 'Só posso dizer quero ler de novo', 1)\n",
      "(125817, '0', 'Stephenie em os apresenta uma leitura envolvente encantadora que prende atenção de os leitores de começo fim que deixa sempre um gostinho de quero mais', 1)\n",
      "(125928, '0', 'que quero dizer que você lê algo que não dá importância mas que logo frente de importância vital', 0)\n",
      "(126316, '0', 'Não não quero saber de esse negócio de licença poética ... você que me dê licença tá', -1)\n",
      "(126448, '0', 'Um tempero um tanto vicioso que em os deixa um gostinho de quero mais', 0)\n",
      "(126485, '0', 'Pois já perdendo meu tempo com isso aqui eu não quero perde com vocês também', 0)\n",
      "(127135, '0', 'trama divinamente contada desenvolvida em os deixando aquele gostinho de quero mais', 1)\n",
      "(127227, '0', 'gosto de quero mais fica forte', 0)\n",
      "(127286, '0', 'Stephanie até arranhou eterno dilema eu me alimento de seres vivos mas não quero ser um monstro mas só arranhou acho que se ousasse se aprofundar mais perderia tom de adolescentes de bem que tentou dar os seus personagens em esta aventura puramente comercial', -1)\n",
      "(127955, '0', 'Quero tacar fogo em essa merda', -1)\n",
      "(128144, '0', 'Eu não sei nem quero saber', -1)\n",
      "(130542, '0', 'Quero que você vá embora', -1)\n",
      "(130991, '0', 'Se as adolescentes são assim hoje em dia então nem quero ser mãe', -1)\n"
     ]
    }
   ],
   "source": [
    "cur = conn.cursor()\n",
    "cur.execute(\"SELECT * FROM tweet where tweet_id == '0' and text like '%quero%'\")\n",
    "#ur.execute(\"SELECT * FROM tweet where id = 130991\")\n",
    "inpSentence = cur.fetchall()\n",
    "\n",
    "for row in inpSentence:\n",
    "    print(row)\n",
    "\n"
   ]
  },
  {
   "cell_type": "code",
   "execution_count": 11,
   "metadata": {},
   "outputs": [],
   "source": [
    "cur = conn.cursor()\n",
    "cur.execute(\"update tweet set sentiment = -1 where id = 126316\").fetchone()\n",
    "conn.commit()"
   ]
  }
 ],
 "metadata": {
  "kernelspec": {
   "display_name": "Python 3",
   "language": "python",
   "name": "python3"
  },
  "language_info": {
   "codemirror_mode": {
    "name": "ipython",
    "version": 3
   },
   "file_extension": ".py",
   "mimetype": "text/x-python",
   "name": "python",
   "nbconvert_exporter": "python",
   "pygments_lexer": "ipython3",
   "version": "3.6.3"
  }
 },
 "nbformat": 4,
 "nbformat_minor": 1
}
