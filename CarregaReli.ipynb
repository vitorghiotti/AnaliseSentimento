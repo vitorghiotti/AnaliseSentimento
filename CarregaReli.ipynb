{
 "cells": [
  {
   "cell_type": "code",
   "execution_count": null,
   "metadata": {},
   "outputs": [],
   "source": [
    "!pip install pony"
   ]
  },
  {
   "cell_type": "code",
   "execution_count": 1,
   "metadata": {},
   "outputs": [],
   "source": [
    "#!pip install orm\n",
    "#!pip install pony\n",
    "import re\n",
    "import time\n",
    "import db_tweet"
   ]
  },
  {
   "cell_type": "code",
   "execution_count": null,
   "metadata": {},
   "outputs": [],
   "source": [
    "def carrega_base(arquivo):\n",
    "    frases={}\n",
    "    \n",
    "    print(\"INICIO \" + arquivo)\n",
    "    f = open(arquivo, \"r\")\n",
    "    data = f.read()\n",
    "    rows = data.split('\\n')\n",
    "\n",
    "    frase = \"\"\n",
    "    sentimento_dic = {\"+\":1, \"O\":0, \"-\":-1}\n",
    "    sentimento = \"\"\n",
    "    vet = []\n",
    "\n",
    "    for l in range(0,len(rows)):\n",
    "    #for l in range(0,250):\n",
    "        if len(rows[l])>0:             \n",
    "            if rows[l][0]!='#' and rows[l][0]!='[':\n",
    "                vet = rows[l].split(\"\\t\")\n",
    "                if len(vet) == 6:\n",
    "                    if len(vet[0])>1:\n",
    "                        if vet[1]!='NPROP':\n",
    "                            frase = frase + vet[0] + \" \"   \n",
    "                            sentimento = vet[4]\n",
    "                        else:\n",
    "                            #print(vet[0])\n",
    "                            1==1\n",
    "                    else:\n",
    "                        #print(vet)\n",
    "                        1==1\n",
    "                else:\n",
    "                    #print(vet)\n",
    "                    1==1\n",
    "\n",
    "        else:\n",
    "            if len(frase)>0:\n",
    "                if len(frase.strip().split(\" \"))>2:\n",
    "                    if frases.get(frase)==None:\n",
    "                        frases[frase]=True\n",
    "                        #print(frases)\n",
    "                        db_tweet.add_tweet_no_id(frase, int(sentimento_dic.get(sentimento)))\n",
    "                    else:\n",
    "                        #print(frase)\n",
    "                        1==1\n",
    "                else:\n",
    "                    db_tweet.add_tweet_no_id(frase, int(sentimento_dic.get(sentimento)))\n",
    "                    1==1\n",
    "                #print(frase.split(\" \"))\n",
    "                #db_tweet.add_tweet_no_id(frase, int(sentimento_dic.get(sentimento)))\n",
    "                #print(\"Frase nro \" + str(l) + \": \" + frase + sentimento_dic.get(sentimento))\n",
    "                #print(frase)\n",
    "                #print(str(l/len(rows)))\n",
    "            frase = \"\"\n",
    "\n",
    "    print(\"FIM \" + arquivo)"
   ]
  },
  {
   "cell_type": "code",
   "execution_count": null,
   "metadata": {},
   "outputs": [],
   "source": [
    "lista = [\"./ReLi-Lex/ReLi-Sheldon.txt\",\"./ReLi-Lex/ReLi-Saramago.txt\",\"./ReLi-Lex/ReLi-Salinger.txt\",\"./ReLi-Lex/ReLi-Amado.txt\",\"./ReLi-Lex/ReLi-Meyer.txt\",\"./ReLi-Lex/ReLi-Orwell.txt\",\"./ReLi-Lex/ReLi-Reboucas.txt\"]"
   ]
  },
  {
   "cell_type": "code",
   "execution_count": null,
   "metadata": {},
   "outputs": [],
   "source": [
    "for l in range(0,len(lista)):\n",
    "    carrega_base(lista[l])"
   ]
  }
 ],
 "metadata": {
  "kernelspec": {
   "display_name": "Python 3",
   "language": "python",
   "name": "python3"
  },
  "language_info": {
   "codemirror_mode": {
    "name": "ipython",
    "version": 3
   },
   "file_extension": ".py",
   "mimetype": "text/x-python",
   "name": "python",
   "nbconvert_exporter": "python",
   "pygments_lexer": "ipython3",
   "version": "3.6.4"
  }
 },
 "nbformat": 4,
 "nbformat_minor": 1
}
