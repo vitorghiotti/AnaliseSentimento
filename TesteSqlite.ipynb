{
 "cells": [
  {
   "cell_type": "code",
   "execution_count": null,
   "metadata": {},
   "outputs": [],
   "source": [
    "!pip install pony"
   ]
  },
  {
   "cell_type": "code",
   "execution_count": 1,
   "metadata": {},
   "outputs": [],
   "source": [
    "#!pip install orm\n",
    "#!pip install pony\n",
    "import sqlite3\n",
    "import pandas as pd"
   ]
  },
  {
   "cell_type": "code",
   "execution_count": 2,
   "metadata": {},
   "outputs": [],
   "source": [
    "conn = sqlite3.connect('tweets.sqlite')"
   ]
  },
  {
   "cell_type": "code",
   "execution_count": null,
   "metadata": {},
   "outputs": [],
   "source": [
    "cur = conn.cursor()\n",
    "sql = (\"SELECT * FROM reacao where sentimento = -1 order by sentimento\")\n",
    "df = pd.read_sql_query(sql, conn) \n",
    "pd.set_option('max_colwidth',150)\n",
    "df"
   ]
  },
  {
   "cell_type": "code",
   "execution_count": 3,
   "metadata": {},
   "outputs": [],
   "source": [
    "cur = conn.cursor()\n",
    "cur.execute(\"update reacao set sentimento=0\").fetchone()\n",
    "conn.commit()"
   ]
  },
  {
   "cell_type": "code",
   "execution_count": 17,
   "metadata": {},
   "outputs": [
    {
     "name": "stdout",
     "output_type": "stream",
     "text": [
      "(1076, '858844943779016704', 'sem ser de signo :) — ser virgem eh o maximo ! https://t.co/Z86yq6gxqj', 1)\n",
      "(11060, '859707476517826560', 'Parabeeeeeens @PedroGoMusic :-) espero que tenhas um dia maravilhoso e que te divirtas ao maximo :) adoro-te &lt;3', 1)\n",
      "(12877, '859810845378973698', '@trixieairoldi Iupiiiiiii. Amamos/Somos Librianos com muito orgulho. rsrsrsrsrsrs\\nVai ser menino? Que maximo ser Libriano :)', 1)\n",
      "(21845, '860520820241772545', '@beingasaloser o maximo que \"consigo\" é ter uma barba media e um cabelo à vagabundo sem levar na tromba e tenho 24 anos :)', 1)\n"
     ]
    }
   ],
   "source": [
    "cur = conn.cursor()\n",
    "cur.execute(\"SELECT * FROM tweet where tweet_id not in (0,1) and text like '% maximo %' and sentiment=1\")\n",
    "#ur.execute(\"SELECT * FROM tweet where id = 130991\")\n",
    "inpSentence = cur.fetchall()\n",
    "\n",
    "for row in inpSentence:\n",
    "    print(row)\n",
    "\n"
   ]
  },
  {
   "cell_type": "code",
   "execution_count": null,
   "metadata": {},
   "outputs": [],
   "source": [
    "cur.execute(\"insert into tweet (tweet_id, text, sentiment) values ('0', 'seu voluntariado não é inutil', '1')\").fetchone()\n",
    "conn.commit()"
   ]
  },
  {
   "cell_type": "code",
   "execution_count": null,
   "metadata": {},
   "outputs": [],
   "source": []
  }
 ],
 "metadata": {
  "kernelspec": {
   "display_name": "Python 3",
   "language": "python",
   "name": "python3"
  },
  "language_info": {
   "codemirror_mode": {
    "name": "ipython",
    "version": 3
   },
   "file_extension": ".py",
   "mimetype": "text/x-python",
   "name": "python",
   "nbconvert_exporter": "python",
   "pygments_lexer": "ipython3",
   "version": "3.6.4"
  }
 },
 "nbformat": 4,
 "nbformat_minor": 1
}
