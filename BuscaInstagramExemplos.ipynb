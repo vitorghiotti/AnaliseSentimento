{
 "cells": [
  {
   "cell_type": "markdown",
   "metadata": {},
   "source": [
    "https://github.com/facebookarchive/python-instagram\n",
    "\n",
    "https://github.com/LevPasha/Instagram-API-python/blob/master/InstagramAPI/InstagramAPI.py\n"
   ]
  },
  {
   "cell_type": "code",
   "execution_count": null,
   "metadata": {},
   "outputs": [],
   "source": [
    "#!pip install InstagramAPI"
   ]
  },
  {
   "cell_type": "code",
   "execution_count": 2,
   "metadata": {},
   "outputs": [
    {
     "name": "stdout",
     "output_type": "stream",
     "text": [
      "Fail to import moviepy. Need only for Video upload.\n"
     ]
    }
   ],
   "source": [
    "from InstagramAPI import InstagramAPI\n",
    "import time\n",
    "from datetime import datetime\n",
    "import db_reacao"
   ]
  },
  {
   "cell_type": "code",
   "execution_count": 3,
   "metadata": {
    "scrolled": false
   },
   "outputs": [
    {
     "name": "stdout",
     "output_type": "stream",
     "text": [
      "Request return 429 error!\n",
      "{'message': 'Please wait a few minutes before you try again.', 'status': 'fail'}\n",
      "Login success!\n",
      "\n",
      "\n"
     ]
    }
   ],
   "source": [
    "api = InstagramAPI(\"vitor.ghiotti@gmail.com\", \"Deb1Mis2@@\")\n",
    "if (api.login()):\n",
    "    print(\"\")\n",
    "else:\n",
    "    print(\"Can't login!\")"
   ]
  },
  {
   "cell_type": "markdown",
   "metadata": {},
   "source": [
    "# PESQUISA PARA ENTENDER USERID, HASHTAGS E LOCATIONS"
   ]
  },
  {
   "cell_type": "code",
   "execution_count": 9,
   "metadata": {},
   "outputs": [],
   "source": [
    "query = {}\n",
    "api.fbUserSearch(\"casariobotequim\") \n",
    "query = api.LastJson"
   ]
  },
  {
   "cell_type": "code",
   "execution_count": null,
   "metadata": {},
   "outputs": [],
   "source": [
    "print(query.keys())\n",
    "print(\"Users\".center(100,\"*\"))\n",
    "print(query.get(\"users\"))\n",
    "print(\"places\".center(100,\"*\"))\n",
    "print(query.get(\"places\"))\n",
    "print(\"hashtags\".center(100,\"*\"))\n",
    "print(query.get(\"hashtags\"))\n",
    "print(\"has_more\".center(100,\"*\"))\n",
    "print(query.get(\"has_more\"))"
   ]
  },
  {
   "cell_type": "markdown",
   "metadata": {},
   "source": [
    "\n",
    "# INICIALIZAÇÃO DE VARIAVEIS"
   ]
  },
  {
   "cell_type": "code",
   "execution_count": 13,
   "metadata": {},
   "outputs": [],
   "source": [
    "query_time_ini = datetime.strptime(\"2018-01-01\", '%Y-%m-%d')\n",
    "query_time_end = datetime.strptime(\"2018-04-02\", '%Y-%m-%d')\n",
    "query_start_collect = datetime.strptime(\"2018-01-01\", '%Y-%m-%d')\n",
    "usernameId = \"1229681384\"\n",
    "listHashTags = [\"casariobotequim\",\"casariobotequimmais\",\"casariobotequim💣💥\"]\n",
    "listLocations = [\"257354853\"]\n",
    "#listLocations = [\"257354853\",\"1008118425\"]\n",
    "#hashTags = [\"casariobotequim\"]"
   ]
  },
  {
   "cell_type": "markdown",
   "metadata": {},
   "source": [
    "# DEFINIÇÃO DE FUNÇÕES"
   ]
  },
  {
   "cell_type": "code",
   "execution_count": 32,
   "metadata": {},
   "outputs": [],
   "source": [
    "def get_comments_by_usernameId(usernameId):\n",
    "    more_available = True\n",
    "    max_id = ''\n",
    "    userFeed = {}\n",
    "    \n",
    "    api.getUserFeed(usernameId=usernameId,maxid=max_id)\n",
    "    userFeed = api.LastJson\n",
    "\n",
    "    while more_available:\n",
    "        for itens in range(0,userFeed[\"num_results\"]):\n",
    "            if userFeed[\"items\"][itens][\"comment_count\"]!=0:\n",
    "                if userFeed[\"items\"][itens][\"caption\"]!=None:\n",
    "                    if datetime.fromtimestamp(userFeed[\"items\"][itens][\"caption\"][\"created_at\"])>=query_start_collect:\n",
    "                        #print(userFeed[\"items\"][itens][\"pk\"])\n",
    "                        #print(userFeed[\"items\"][itens][\"comment_count\"])\n",
    "                        #print(userFeed[\"items\"][itens][\"has_more_comments\"])\n",
    "                        #print(userFeed[\"items\"][itens][\"caption\"][\"text\"])\n",
    "                        #print(datetime.fromtimestamp(userFeed[\"items\"][itens][\"caption\"][\"created_at\"]))\n",
    "                        #print(userFeed[\"items\"][itens][\"caption\"][\"media_id\"])\n",
    "                        insert_comments(str(userFeed[\"items\"][itens][\"caption\"][\"media_id\"]))\n",
    "                    else:\n",
    "                        more_available = False\n",
    "    \n",
    "        if more_available:\n",
    "            more_available = userFeed.get('more_available', False)\n",
    "            if userFeed.get('more_available', False)==True:\n",
    "                max_id = userFeed[\"next_max_id\"]   \n",
    "                api.getUserFeed(usernameId=usernameId,maxid=max_id)\n",
    "                userFeed = api.LastJson\n",
    "                time.sleep(2)"
   ]
  },
  {
   "cell_type": "code",
   "execution_count": 34,
   "metadata": {},
   "outputs": [],
   "source": [
    "def get_comments_by_hashTags(hashTags):\n",
    "    more_available = True\n",
    "    max_id = ''\n",
    "    hTags = {}\n",
    "\n",
    "    for tags in range(0,len(hashTags)):\n",
    "        api.getHashtagFeed(hashtagString=hashTags[tags],maxid=max_id)\n",
    "        hTags = api.LastJson\n",
    "\n",
    "        while more_available:\n",
    "            for itens in range(0,len(hTags['items'])):\n",
    "                if hTags['items'][itens][\"comment_count\"]!=0:\n",
    "                    if hTags[\"items\"][itens][\"caption\"]!=None:\n",
    "                        if datetime.fromtimestamp(hTags[\"items\"][itens][\"caption\"][\"created_at\"])>=query_start_collect:\n",
    "                            insert_comments(str(hTags[\"items\"][itens][\"caption\"][\"media_id\"]))\n",
    "                            print(\"HarshTag '\" + hashTags[tags] + \"': \" +str(hTags[\"items\"][itens][\"caption\"][\"media_id\"]))\n",
    "                        else:\n",
    "                            more_available = False\n",
    "\n",
    "            if more_available:   \n",
    "                more_available = hTags.get('more_available', False)\n",
    "                if hTags.get('more_available', False)==True:\n",
    "                    max_id = hTags[\"next_max_id\"]   \n",
    "                    api.getHashtagFeed(hashtagString=hashTags[tags],maxid=max_id)\n",
    "                    hTags = api.LastJson\n",
    "                    time.sleep(2)"
   ]
  },
  {
   "cell_type": "code",
   "execution_count": 38,
   "metadata": {},
   "outputs": [],
   "source": [
    "def get_comments_by_location(listLocations):\n",
    "    \n",
    "    more_available = True\n",
    "    max_id = ''\n",
    "    place = {}\n",
    "\n",
    "    for index in range(0,len(listLocations)):\n",
    "        api.getLocationFeed(locationId=listLocations[index],maxid=max_id)\n",
    "        place = api.LastJson\n",
    "\n",
    "        while more_available:\n",
    "            for itens in range(0,len(place['items'])):\n",
    "                if place['items'][itens][\"comment_count\"]!=0:\n",
    "                    if place[\"items\"][itens][\"caption\"]!=None:\n",
    "                        if datetime.fromtimestamp(place[\"items\"][itens][\"caption\"][\"created_at\"])>=query_start_collect:\n",
    "                            insert_comments(str(place[\"items\"][itens][\"caption\"][\"media_id\"]))\n",
    "                            print(\"Location '\" + listLocations[index] + \"': \" +str(place[\"items\"][itens][\"caption\"][\"media_id\"]))\n",
    "                        else:\n",
    "                            more_available = False\n",
    "\n",
    "            if more_available:   \n",
    "                more_available = place.get('more_available', False)\n",
    "                if place.get('more_available', False)==True:\n",
    "                    max_id = place[\"next_max_id\"]   \n",
    "                    api.getLocationFeed(locationId=listLocations[index],maxid=max_id)\n",
    "                    place = api.LastJson\n",
    "                    time.sleep(2)"
   ]
  },
  {
   "cell_type": "code",
   "execution_count": 33,
   "metadata": {},
   "outputs": [],
   "source": [
    "def insert_comments(media_id):\n",
    "    has_more_comments = True\n",
    "    max_id = ''\n",
    "    comments = []\n",
    "    comm={}\n",
    "\n",
    "    while has_more_comments:\n",
    "        api.getMediaComments(media_id, max_id=max_id)\n",
    "        comm = api.LastJson\n",
    "\n",
    "        for itens in range(0,comm['comment_count']):\n",
    "            if datetime.fromtimestamp(comm[\"comments\"][itens][\"created_at\"])>=query_time_ini and datetime.fromtimestamp(comm[\"comments\"][itens][\"created_at\"])<=query_time_end:\n",
    "                if str(comm[\"comments\"][itens][\"user_id\"])!=usernameId:\n",
    "                    try:            \n",
    "                        db_reacao.add_reacao_insta(1,4,comm[\"comments\"][itens][\"text\"],0,comm[\"comments\"][itens][\"created_at\"],str(comm[\"comments\"][itens][\"pk\"]))\n",
    "                    except Exception as e:\n",
    "                        print(\"Erro inclusão comentário\".center(110,\"*\"))\n",
    "                        print(\"Identificador: \" + str(comm[\"comments\"][itens][\"pk\"]))\n",
    "                        print(\"Comentário: \" + str(comm[\"comments\"][itens][\"text\"]))\n",
    "                        print(\"User id: \" + str(usernameId))\n",
    "                        print(\"Media ID: \" + str(media_id))\n",
    "                        print(\"Erro: \" + str(e))\n",
    "\n",
    "        has_more_comments = comm.get('has_more_comments', False)\n",
    "        if comm.get('has_more_comments', False)==True:\n",
    "            max_id = comm.get('next_max_id', '')\n",
    "            time.sleep(2)"
   ]
  },
  {
   "cell_type": "markdown",
   "metadata": {},
   "source": [
    "# INICIO DA COLETA"
   ]
  },
  {
   "cell_type": "code",
   "execution_count": null,
   "metadata": {},
   "outputs": [],
   "source": [
    "get_comments_by_usernameId(usernameId)\n",
    "get_comments_by_hashTags(listHashTags)\n",
    "get_comments_by_location(listLocations)"
   ]
  },
  {
   "cell_type": "code",
   "execution_count": null,
   "metadata": {},
   "outputs": [],
   "source": [
    "api.getSelfUserFeed()  # get self user feed\n",
    "print(api.LastJson) "
   ]
  },
  {
   "cell_type": "code",
   "execution_count": 16,
   "metadata": {},
   "outputs": [
    {
     "name": "stdout",
     "output_type": "stream",
     "text": [
      "dict_keys(['items', 'num_results', 'more_available', 'auto_load_more_enabled', 'media_count', 'location', 'status'])\n",
      "dict_keys(['taken_at', 'pk', 'id', 'device_timestamp', 'media_type', 'code', 'client_cache_key', 'filter_type', 'image_versions2', 'original_width', 'original_height', 'location', 'lat', 'lng', 'user', 'can_viewer_reshare', 'caption', 'caption_is_edited', 'like_count', 'has_liked', 'comment_likes_enabled', 'comment_threading_enabled', 'has_more_comments', 'max_num_visible_preview_comments', 'preview_comments', 'comment_count', 'photo_of_you', 'can_viewer_save', 'organic_tracking_token'])\n"
     ]
    }
   ],
   "source": [
    "api.getLocationFeed(locationId=\"1008118425\")\n",
    "print(api.LastJson.keys()) \n",
    "print(api.LastJson[\"items\"][0].keys()) "
   ]
  },
  {
   "cell_type": "code",
   "execution_count": null,
   "metadata": {},
   "outputs": [],
   "source": [
    "api.getHashtagFeed(hashtagString=\"casariobotequim\")\n",
    "print(api.LastJson[\"items\"][0].keys())\n",
    "print(api.LastJson[\"items\"][0][\"caption\"].keys())\n",
    "print(api.LastJson[\"items\"][0][\"caption\"][\"media_id\"])\n",
    "print(api.LastJson[\"items\"][0][\"caption\"][\"created_at\"])"
   ]
  },
  {
   "cell_type": "code",
   "execution_count": null,
   "metadata": {},
   "outputs": [],
   "source": [
    "api.getHashtagFeed(hashtagString=\"casariobotequim\")\n",
    "print(api.LastJson.keys()) \n",
    "print(api.LastJson[\"num_results\"]) \n",
    "print(api.LastJson[\"more_available\"]) \n",
    "print(api.LastJson[\"items\"]) "
   ]
  },
  {
   "cell_type": "code",
   "execution_count": null,
   "metadata": {},
   "outputs": [],
   "source": [
    "#pega dados do user id informado\n",
    "\n",
    "api.getUsernameInfo(usernameId)\n",
    "print(api.LastJson) "
   ]
  },
  {
   "cell_type": "code",
   "execution_count": null,
   "metadata": {},
   "outputs": [],
   "source": [
    "totalUserFeed = {}\n",
    "api.getTotalUserFeed(usernameId=usernameId)\n",
    "totalUserFeed = api.LastJson"
   ]
  },
  {
   "cell_type": "code",
   "execution_count": null,
   "metadata": {},
   "outputs": [],
   "source": [
    "totalUserFeed.keys()\n",
    "totalUserFeed[\"num_results\"]"
   ]
  },
  {
   "cell_type": "code",
   "execution_count": 15,
   "metadata": {},
   "outputs": [
    {
     "data": {
      "text/plain": [
       "True"
      ]
     },
     "execution_count": 15,
     "metadata": {},
     "output_type": "execute_result"
    }
   ],
   "source": [
    "media_id = \"1701881931908390505\"\n",
    "count = 100\n",
    "\n",
    "max_id = ''\n",
    "comments = []\n",
    "\n",
    "api.getMediaComments(media_id, max_id=max_id)"
   ]
  },
  {
   "cell_type": "code",
   "execution_count": 14,
   "metadata": {},
   "outputs": [
    {
     "name": "stdout",
     "output_type": "stream",
     "text": [
      "Que horas que ???\n",
      "@josue_bernardo25 A Feijoada é servida 13h e o Samba começa às 15h\n",
      "Coisa linda heim pai 👏👏👏👏\n",
      "@casariobotequim esse domingo de carnaval vai ter a feijoada com samba?\n"
     ]
    }
   ],
   "source": [
    "    media_id = \"1706576776958097375\"\n",
    "    has_more_comments = True\n",
    "    max_id = ''\n",
    "    comments = []\n",
    "    comm={}\n",
    "\n",
    "    while has_more_comments:\n",
    "        time.sleep(1)\n",
    "        api.getMediaComments(media_id, max_id=max_id)\n",
    "        comm = api.LastJson\n",
    "\n",
    "        for item_comm in range(0,len(comm[\"comments\"])):\n",
    "            if datetime.fromtimestamp(comm[\"comments\"][item_comm][\"created_at\"])>=query_time_ini and datetime.fromtimestamp(comm[\"comments\"][item_comm][\"created_at\"])<=query_time_end:\n",
    "                if str(comm[\"comments\"][item_comm][\"user_id\"])!=usernameId:\n",
    "                    try:            \n",
    "                        print(comm[\"comments\"][item_comm][\"text\"])\n",
    "                    except Exception as e:\n",
    "                        print(\"Erro inclusão comentário\".center(110,\"*\"))\n",
    "                        print(\"Origem: \" + origem)\n",
    "                        print(\"Identificador: \" + str(comm[\"comments\"][item_comm][\"pk\"]))\n",
    "                        print(\"Comentário: \" + str(comm[\"comments\"][item_comm][\"text\"]))\n",
    "                        print(\"User id: \" + str(usernameId))\n",
    "                        print(\"Media ID: \" + str(media_id))\n",
    "                        print(\"Erro: \" + str(e))\n",
    "\n",
    "        has_more_comments = comm.get('has_more_comments', False)\n",
    "        if comm.get('has_more_comments', False)==True:\n",
    "            max_id = comm.get('next_max_id', '')\n",
    "            time.sleep(2)"
   ]
  },
  {
   "cell_type": "code",
   "execution_count": 22,
   "metadata": {},
   "outputs": [
    {
     "data": {
      "text/plain": [
       "20"
      ]
     },
     "execution_count": 22,
     "metadata": {},
     "output_type": "execute_result"
    }
   ],
   "source": [
    "len(api.LastJson[\"comments\"])"
   ]
  },
  {
   "cell_type": "code",
   "execution_count": 21,
   "metadata": {},
   "outputs": [
    {
     "name": "stdout",
     "output_type": "stream",
     "text": [
      "0\n",
      "Lindos 😍\n",
      "1\n",
      "Boa Mbappé\n",
      "2\n",
      "@tonon_gabriel ai pqp ueueueuejsususjhehdhdhdhehhdhdhdhehehheheheuehueheheuehhehehehehehuehuheheheheheehehuehehe\n",
      "3\n",
      "@rafaelqbarbosa pare kkkkkkkkkkkkkkkkkkkkk\n",
      "4\n",
      "Noixxx 🤙🏽\n",
      "5\n",
      "Casa Rio mora no meu coração.\n",
      "6\n",
      "@lohanezm voce mora no nosso coração.\n",
      "7\n",
      "@rafaelqbarbosa vamos suspender o álcool, vamos? 😂\n",
      "8\n",
      "@lohanezm ok\n",
      "9\n",
      "@lohanezm affe\n",
      "10\n",
      "Mim DEICHE em PAS\n",
      "11\n",
      "Iiiiiii Perdemos um soldado.... felicidades 👏👏👏👏👏👏\n",
      "12\n",
      "@brendaaltoe é minha irmã, véi kkkkk\n",
      "13\n",
      "Nooooix\n",
      "14\n",
      "@brendaaltoe 😂😂😂😂😂😂\n",
      "15\n",
      "@rafaelqbarbosa como eu iria saber? Tipo... ela é linda demais pra ser sua irmã 😂.... Como isso é possível\n",
      "16\n",
      "@tety.lopes prazer irmã nunca mencionada 🙈\n",
      "17\n",
      "@brendaaltoe era de se esperar! Huhauaha\n",
      "18\n",
      "@tonon_gabriel né 😂\n",
      "19\n",
      "@brendaaltoe 😂😂😂😂😂😂😂😂😂 olaaaar\n",
      "20\n"
     ]
    },
    {
     "ename": "IndexError",
     "evalue": "list index out of range",
     "output_type": "error",
     "traceback": [
      "\u001b[0;31m---------------------------------------------------------------------------\u001b[0m",
      "\u001b[0;31mIndexError\u001b[0m                                Traceback (most recent call last)",
      "\u001b[0;32m<ipython-input-21-513ba513c3b1>\u001b[0m in \u001b[0;36m<module>\u001b[0;34m()\u001b[0m\n\u001b[1;32m      1\u001b[0m \u001b[0;32mfor\u001b[0m \u001b[0mi\u001b[0m \u001b[0;32min\u001b[0m \u001b[0mrange\u001b[0m\u001b[0;34m(\u001b[0m\u001b[0;36m0\u001b[0m\u001b[0;34m,\u001b[0m\u001b[0mapi\u001b[0m\u001b[0;34m.\u001b[0m\u001b[0mLastJson\u001b[0m\u001b[0;34m[\u001b[0m\u001b[0;34m\"comment_count\"\u001b[0m\u001b[0;34m]\u001b[0m\u001b[0;34m)\u001b[0m\u001b[0;34m:\u001b[0m\u001b[0;34m\u001b[0m\u001b[0m\n\u001b[1;32m      2\u001b[0m     \u001b[0mprint\u001b[0m\u001b[0;34m(\u001b[0m\u001b[0mi\u001b[0m\u001b[0;34m)\u001b[0m\u001b[0;34m\u001b[0m\u001b[0m\n\u001b[0;32m----> 3\u001b[0;31m     \u001b[0mprint\u001b[0m\u001b[0;34m(\u001b[0m\u001b[0mapi\u001b[0m\u001b[0;34m.\u001b[0m\u001b[0mLastJson\u001b[0m\u001b[0;34m[\u001b[0m\u001b[0;34m\"comments\"\u001b[0m\u001b[0;34m]\u001b[0m\u001b[0;34m[\u001b[0m\u001b[0mi\u001b[0m\u001b[0;34m]\u001b[0m\u001b[0;34m[\u001b[0m\u001b[0;34m\"text\"\u001b[0m\u001b[0;34m]\u001b[0m\u001b[0;34m)\u001b[0m\u001b[0;34m\u001b[0m\u001b[0m\n\u001b[0m",
      "\u001b[0;31mIndexError\u001b[0m: list index out of range"
     ]
    }
   ],
   "source": [
    "for i in range(0,api.LastJson[\"comment_count\"]):\n",
    "    print(i)\n",
    "    print(api.LastJson[\"comments\"][i][\"text\"])"
   ]
  },
  {
   "cell_type": "code",
   "execution_count": 8,
   "metadata": {},
   "outputs": [
    {
     "name": "stdout",
     "output_type": "stream",
     "text": [
      "{'comment_likes_enabled': True, 'comments': [{'pk': 17895405745159927, 'user_id': 5660856738, 'text': 'Que horas que ???', 'type': 0, 'created_at': 1517668391, 'created_at_utc': 1517668391, 'content_type': 'comment', 'status': 'Active', 'bit_flags': 0, 'user': {'pk': 5660856738, 'username': 'josue_bernardo25', 'full_name': 'Josue Bernardo', 'is_private': False, 'profile_pic_url': 'https://instagram.fbhz1-1.fna.fbcdn.net/vp/72de52466c4c5f2c080902d609efb028/5B676952/t51.2885-19/s150x150/26395849_163194964321222_8956283620037754880_n.jpg', 'profile_pic_id': '1694711840934626665_5660856738', 'is_verified': False}, 'did_report_as_spam': False, 'has_liked_comment': False, 'comment_like_count': 1, 'inline_composer_display_condition': 'never'}, {'pk': 17909674813100216, 'user_id': 190350270, 'text': '@josue_bernardo25 A Feijoada é servida 13h e o Samba começa às 15h', 'type': 0, 'created_at': 1517670036, 'created_at_utc': 1517670036, 'content_type': 'comment', 'status': 'Active', 'bit_flags': 0, 'user': {'pk': 190350270, 'username': 'thdnp', 'full_name': 'Thiago Pereira', 'is_private': False, 'profile_pic_url': 'https://instagram.fbhz1-1.fna.fbcdn.net/vp/fff2949ace55740c69e1f725ad59a4d7/5B6B025B/t51.2885-19/s150x150/23099399_576296436072353_6449617118408212480_n.jpg', 'profile_pic_id': '1639592633355894003_190350270', 'is_verified': False}, 'did_report_as_spam': False, 'has_liked_comment': False, 'comment_like_count': 0, 'inline_composer_display_condition': 'never'}, {'pk': 17895310540148855, 'user_id': 6249158451, 'text': 'Coisa linda heim pai 👏👏👏👏', 'type': 0, 'created_at': 1517721980, 'created_at_utc': 1517721980, 'content_type': 'comment', 'status': 'Active', 'bit_flags': 0, 'user': {'pk': 6249158451, 'username': 'falacompapai2', 'full_name': 'Alexandre', 'is_private': True, 'profile_pic_url': 'https://instagram.fbhz1-1.fna.fbcdn.net/vp/3afd51dd1955743c0ce17a429788a1ce/5B720166/t51.2885-19/s150x150/28430245_365946077142256_3524038391698030592_n.jpg', 'profile_pic_id': '1730932768040089514_6249158451', 'is_verified': False}, 'did_report_as_spam': False, 'has_liked_comment': False, 'comment_like_count': 0, 'inline_composer_display_condition': 'never'}, {'pk': 17923799020003016, 'user_id': 4461782414, 'text': '@casariobotequim esse domingo de carnaval vai ter a feijoada com samba?', 'type': 0, 'created_at': 1518107906, 'created_at_utc': 1518107906, 'content_type': 'comment', 'status': 'Active', 'bit_flags': 0, 'user': {'pk': 4461782414, 'username': 'viniciusnevesp', 'full_name': 'Vinicius Neves', 'is_private': False, 'profile_pic_url': 'https://instagram.fbhz1-1.fna.fbcdn.net/vp/200a6f3387a2734a80bcf65dcb1c19cb/5B3C38CE/t51.2885-19/s150x150/28153743_555479114822107_7265246122476568576_n.jpg', 'profile_pic_id': '1530642178975281581_4461782414', 'is_verified': False}, 'did_report_as_spam': False, 'has_liked_comment': False, 'comment_like_count': 0, 'inline_composer_display_condition': 'never'}], 'comment_count': 4, 'caption': {'pk': 17904927964089067, 'user_id': 1229681384, 'text': 'Hoje tem o retorno de nossa Tradicional Feijoada com Samba e quem fará a festa e o Grupo Meu Samba!!! Caipivodka e Caipirinha 50% off que irá até as 20:30hs 🎰Conheça nosso mezanino agora com um salão de jogos especial para você 🎱\\nDiversão e bom serviço é aqui na Casa Rio Botequim. \\nVem pra cá!!! #casariobotequim #capixaba #carioca #praia #cerveja  #amigos #vempracá #cervejagelada #diversao #boacomida #boamusica #vv #es\\n#vempraca #cervejagelada #sambaepagode @ Casa Rio Botequim', 'type': 1, 'created_at': 1517659827, 'created_at_utc': 1517659827, 'content_type': 'comment', 'status': 'Active', 'bit_flags': 0, 'user': {'pk': 1229681384, 'username': 'casariobotequim', 'full_name': 'Casa Rio Botequim', 'is_private': False, 'profile_pic_url': 'https://instagram.fbhz1-1.fna.fbcdn.net/vp/0779ba6bb0e87ed563bbd0864f7ded3a/5B54C765/t51.2885-19/s150x150/22500296_1779314475699971_9022403056716742656_n.jpg', 'profile_pic_id': '1627146045153033745_1229681384', 'is_verified': False}, 'did_report_as_spam': False, 'has_translation': True}, 'caption_is_edited': False, 'has_more_comments': False, 'has_more_headload_comments': False, 'media_header_display': 'none', 'preview_comments': [], 'status': 'ok'}\n"
     ]
    }
   ],
   "source": [
    "print(api.LastJson)"
   ]
  },
  {
   "cell_type": "code",
   "execution_count": null,
   "metadata": {},
   "outputs": [],
   "source": []
  }
 ],
 "metadata": {
  "kernelspec": {
   "display_name": "Python 3",
   "language": "python",
   "name": "python3"
  },
  "language_info": {
   "codemirror_mode": {
    "name": "ipython",
    "version": 3
   },
   "file_extension": ".py",
   "mimetype": "text/x-python",
   "name": "python",
   "nbconvert_exporter": "python",
   "pygments_lexer": "ipython3",
   "version": "3.6.4"
  }
 },
 "nbformat": 4,
 "nbformat_minor": 2
}
