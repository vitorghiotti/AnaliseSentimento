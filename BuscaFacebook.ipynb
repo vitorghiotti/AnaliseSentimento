{
 "cells": [
  {
   "cell_type": "markdown",
   "metadata": {},
   "source": [
    "https://github.com/PacktPublishing/Python-Social-Media-Analytics/blob/5886b29587054526920e40b54ea630de5ed9d365/Chapter03/Chapter3.ipynb\n",
    "\n",
    "\n",
    "https://developers.facebook.com/docs/graph-api/explorer/\n",
    "\n",
    "https://developers.facebook.com/docs/places/search\n",
    "\n",
    "https://developers.facebook.com/docs/graph-api/reference/page/ratings/\n",
    "\n",
    "https://developers.facebook.com/tools/explorer/"
   ]
  },
  {
   "cell_type": "code",
   "execution_count": null,
   "metadata": {},
   "outputs": [],
   "source": [
    "#!pip install facepy\n",
    "#!pip install pony"
   ]
  },
  {
   "cell_type": "code",
   "execution_count": 1,
   "metadata": {},
   "outputs": [],
   "source": [
    "import requests\n",
    "import json\n",
    "import time\n",
    "import db_reacao\n",
    "from datetime import datetime\n",
    "from facepy import GraphAPI\n",
    "from pony import orm"
   ]
  },
  {
   "cell_type": "code",
   "execution_count": 2,
   "metadata": {},
   "outputs": [],
   "source": [
    "# Initialize the Graph API with a valid access token (optional,\n",
    "# but will allow you to do all sorts of fun stuff).\n",
    "graph = GraphAPI(\"EAACEdEose0cBAM6nekgxQ826DnyBO7IFktK90ZCe8wHyH210j0ZALrRivlzmSUZAn7ZBLtjlUY2Mx2WclOQRr9xyT4mQZCY16dBk1zEhjgdFxWTbp6ZBvZBhi5o1nZCpIVBd237ZBFbJO63TaAxcZAxPU2OWTpBQiPK3eYAAUr6euHj02RXUOV3pzK2IHWBHi6QeEZD\")"
   ]
  },
  {
   "cell_type": "code",
   "execution_count": 3,
   "metadata": {},
   "outputs": [],
   "source": [
    "# Get my latest posts\n",
    "data_post = graph.get('v2.12/745618718900423/feed?')"
   ]
  },
  {
   "cell_type": "code",
   "execution_count": 11,
   "metadata": {},
   "outputs": [],
   "source": [
    "post={}\n",
    "comm={}\n",
    "reac={}\n",
    "reac_sentimento = {\"SAD\":-1,\"ANGRY\":-1,\"HAHA\":1,\"LOVE\":1,\"WOW\":1,\"LIKE\":1}\n",
    "query_time_post = datetime.strptime(\"2015-01-01\", '%Y-%m-%d')\n",
    "query_time_comm = datetime.strptime(\"2018-03-01\", '%Y-%m-%d')"
   ]
  },
  {
   "cell_type": "code",
   "execution_count": null,
   "metadata": {},
   "outputs": [],
   "source": [
    "for p in range(0,len(data_post[\"data\"])):\n",
    "    post = data_post[\"data\"][p]\n",
    "    created_time_post = datetime.strptime(post.get(\"created_time\").split(\"T\")[0], '%Y-%m-%d')\n",
    "    if created_time_post>=query_time_post:\n",
    "        data_comm = graph.get('v2.12/'+ post.get(\"id\") +'?fields=comments,reactions')\n",
    "        if data_comm.get(\"comments\")!=None:\n",
    "            for c in range(0,len(data_comm[\"comments\"][\"data\"])):\n",
    "                comm = data_comm[\"comments\"][\"data\"][c]\n",
    "                created_time_comm = datetime.strptime(comm.get(\"created_time\").split(\"T\")[0], '%Y-%m-%d')\n",
    "                if created_time_comm>=query_time_comm:\n",
    "                    try:\n",
    "                        db_reacao.add_reacao_face(1,2,comm[\"message\"], 0,int(time.mktime(created_time_comm.timetuple())),str(comm[\"id\"]))\n",
    "                    except Exception as e:\n",
    "                        print(\"erro comentario\")\n",
    "                        print(e)  \n",
    "        if data_comm.get(\"reactions\")!=None:\n",
    "            for c in range(0,len(data_comm[\"reactions\"][\"data\"])):\n",
    "                reac = data_comm[\"reactions\"][\"data\"][c]\n",
    "                try:            \n",
    "                    db_reacao.add_reacao_face(1,3,reac[\"type\"], reac_sentimento.get(reac[\"type\"],0),int(time.mktime(datetime.now().timetuple())),str(post[\"id\"])+\"_\"+str(reac[\"id\"]))\n",
    "                except Exception as e:\n",
    "                    print(\"erro reação\")\n",
    "                    print(reac[\"type\"])\n",
    "                    print(e)    "
   ]
  }
 ],
 "metadata": {
  "kernelspec": {
   "display_name": "Python 3",
   "language": "python",
   "name": "python3"
  },
  "language_info": {
   "codemirror_mode": {
    "name": "ipython",
    "version": 3
   },
   "file_extension": ".py",
   "mimetype": "text/x-python",
   "name": "python",
   "nbconvert_exporter": "python",
   "pygments_lexer": "ipython3",
   "version": "3.6.4"
  }
 },
 "nbformat": 4,
 "nbformat_minor": 2
}
