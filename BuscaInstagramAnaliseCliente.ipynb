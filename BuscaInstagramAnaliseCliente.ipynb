{
 "cells": [
  {
   "cell_type": "markdown",
   "metadata": {},
   "source": [
    "https://github.com/facebookarchive/python-instagram\n",
    "\n",
    "https://github.com/LevPasha/Instagram-API-python/blob/master/InstagramAPI/InstagramAPI.py\n"
   ]
  },
  {
   "cell_type": "code",
   "execution_count": null,
   "metadata": {},
   "outputs": [],
   "source": [
    "#!pip install InstagramAPI"
   ]
  },
  {
   "cell_type": "code",
   "execution_count": 5,
   "metadata": {},
   "outputs": [
    {
     "name": "stdout",
     "output_type": "stream",
     "text": [
      "Fail to import moviepy. Need only for Video upload.\n"
     ]
    }
   ],
   "source": [
    "from InstagramAPI import InstagramAPI\n",
    "import time\n",
    "from datetime import datetime\n",
    "import db_reacao"
   ]
  },
  {
   "cell_type": "code",
   "execution_count": 7,
   "metadata": {
    "scrolled": false
   },
   "outputs": [
    {
     "name": "stdout",
     "output_type": "stream",
     "text": [
      "Request return 429 error!\n",
      "{'message': 'Please wait a few minutes before you try again.', 'status': 'fail'}\n",
      "Login success!\n",
      "\n",
      "\n"
     ]
    }
   ],
   "source": [
    "api = InstagramAPI(\"vitor.ghiotti@gmail.com\", \"Deb1Mis2@@\")\n",
    "if (api.login()):\n",
    "    print(\"\")\n",
    "else:\n",
    "    print(\"Can't login!\")"
   ]
  },
  {
   "cell_type": "markdown",
   "metadata": {},
   "source": [
    "# PESQUISA PARA ENTENDER USERID, HASHTAGS E LOCATIONS"
   ]
  },
  {
   "cell_type": "code",
   "execution_count": 9,
   "metadata": {},
   "outputs": [],
   "source": [
    "query = {}\n",
    "api.fbUserSearch(\"casariobotequim\") \n",
    "query = api.LastJson"
   ]
  },
  {
   "cell_type": "code",
   "execution_count": null,
   "metadata": {},
   "outputs": [],
   "source": [
    "print(query.keys())\n",
    "print(\"Users\".center(100,\"*\"))\n",
    "print(query.get(\"users\"))\n",
    "print(\"places\".center(100,\"*\"))\n",
    "print(query.get(\"places\"))\n",
    "print(\"hashtags\".center(100,\"*\"))\n",
    "print(query.get(\"hashtags\"))\n",
    "print(\"has_more\".center(100,\"*\"))\n",
    "print(query.get(\"has_more\"))"
   ]
  },
  {
   "cell_type": "markdown",
   "metadata": {},
   "source": [
    "\n",
    "# INICIALIZAÇÃO DE VARIAVEIS"
   ]
  },
  {
   "cell_type": "code",
   "execution_count": 11,
   "metadata": {},
   "outputs": [],
   "source": [
    "query_time_ini = datetime.strptime(\"2018-01-01\", '%Y-%m-%d')\n",
    "query_time_end = datetime.strptime(\"2018-04-02\", '%Y-%m-%d')\n",
    "query_start_collect = datetime.strptime(\"2018-01-01\", '%Y-%m-%d')\n",
    "usernameId = \"1229681384\"\n",
    "listHashTags = [\"casariobotequim\",\"casariobotequimmais\",\"casariobotequim💣💥\"]\n",
    "listLocations = [\"257354853\"]"
   ]
  }
 ],
 "metadata": {
  "kernelspec": {
   "display_name": "Python 3",
   "language": "python",
   "name": "python3"
  },
  "language_info": {
   "codemirror_mode": {
    "name": "ipython",
    "version": 3
   },
   "file_extension": ".py",
   "mimetype": "text/x-python",
   "name": "python",
   "nbconvert_exporter": "python",
   "pygments_lexer": "ipython3",
   "version": "3.6.4"
  }
 },
 "nbformat": 4,
 "nbformat_minor": 2
}
