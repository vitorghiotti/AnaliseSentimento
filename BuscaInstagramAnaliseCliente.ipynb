{
 "cells": [
  {
   "cell_type": "markdown",
   "metadata": {},
   "source": [
    "https://github.com/facebookarchive/python-instagram\n",
    "\n",
    "https://github.com/LevPasha/Instagram-API-python/blob/master/InstagramAPI/InstagramAPI.py\n"
   ]
  },
  {
   "cell_type": "code",
   "execution_count": null,
   "metadata": {
    "collapsed": true
   },
   "outputs": [],
   "source": [
    "#!pip install InstagramAPI"
   ]
  },
  {
   "cell_type": "code",
   "execution_count": 1,
   "metadata": {
    "collapsed": false
   },
   "outputs": [
    {
     "name": "stdout",
     "output_type": "stream",
     "text": [
      "Fail to import moviepy. Need only for Video upload.\n"
     ]
    }
   ],
   "source": [
    "from InstagramAPI import InstagramAPI\n",
    "import time\n",
    "from datetime import datetime\n",
    "import db_reacao"
   ]
  },
  {
   "cell_type": "code",
   "execution_count": 2,
   "metadata": {
    "collapsed": false,
    "scrolled": false
   },
   "outputs": [
    {
     "name": "stdout",
     "output_type": "stream",
     "text": [
      "Request return 429 error!\n",
      "{'message': 'Please wait a few minutes before you try again.', 'status': 'fail'}\n",
      "Login success!\n",
      "\n",
      "\n"
     ]
    }
   ],
   "source": [
    "api = InstagramAPI(\"vitor.ghiotti@gmail.com\", \"Deb1Mis2@@\")\n",
    "if (api.login()):\n",
    "    print(\"\")\n",
    "else:\n",
    "    print(\"Can't login!\")"
   ]
  },
  {
   "cell_type": "markdown",
   "metadata": {},
   "source": [
    "# PESQUISA PARA ENTENDER USERID, HASHTAGS E LOCATIONS"
   ]
  },
  {
   "cell_type": "code",
   "execution_count": 5,
   "metadata": {
    "collapsed": true
   },
   "outputs": [],
   "source": [
    "query = {}\n",
    "api.fbUserSearch(\"casa rio beach\") \n",
    "query = api.LastJson"
   ]
  },
  {
   "cell_type": "code",
   "execution_count": 6,
   "metadata": {
    "collapsed": false
   },
   "outputs": [
    {
     "name": "stdout",
     "output_type": "stream",
     "text": [
      "dict_keys(['rank_token', 'clear_client_cache', 'status', 'hashtags', 'has_more', 'places', 'users'])\n",
      "***********************************************Users************************************************\n",
      "[{'position': 0, 'user': {'is_private': False, 'is_verified': False, 'social_context': 'Following', 'username': 'casariobeachvv', 'byline': '397 followers', 'unseen_count': 0, 'friendship_status': {'is_private': False, 'incoming_request': False, 'following': True, 'outgoing_request': False, 'is_bestie': False}, 'profile_pic_id': '1694373720531321711_6940723892', 'mutual_followers_count': 0.0, 'search_social_context': 'Following', 'has_anonymous_profile_picture': False, 'pk': 6940723892, 'profile_pic_url': 'https://instagram.fbhz2-1.fna.fbcdn.net/vp/d6aea3ae12623c843342128508234acc/5B814761/t51.2885-19/s150x150/26068274_171657380110997_1020661594499055616_n.jpg', 'follower_count': 397, 'full_name': 'Casa Rio Beach'}}, {'position': 2, 'user': {'is_private': False, 'is_verified': False, 'byline': '0 followers', 'has_anonymous_profile_picture': True, 'pk': 6940186779, 'username': 'casariobeach', 'mutual_followers_count': 0.0, 'full_name': 'Casariobeach', 'friendship_status': {'is_private': False, 'incoming_request': False, 'following': False, 'outgoing_request': False, 'is_bestie': False}, 'follower_count': 0, 'profile_pic_url': 'https://instagram.fgdl5-1.fna.fbcdn.net/vp/856b9478629f7c2f4ae549c4c8cc5dd7/5B94597A/t51.2885-19/11906329_960233084022564_1448528159_a.jpg'}}, {'position': 4, 'user': {'is_private': False, 'is_verified': False, 'username': 'casajoario', 'byline': '432 followers', 'friendship_status': {'is_private': False, 'incoming_request': False, 'following': False, 'outgoing_request': False, 'is_bestie': False}, 'profile_pic_id': '1280040594428692149_3454232254', 'mutual_followers_count': 0.0, 'has_anonymous_profile_picture': False, 'pk': 3454232254, 'profile_pic_url': 'https://instagram.fbhz2-1.fna.fbcdn.net/vp/f18edaf2b94dddcb650f144fbe6d45f1/5B964E8E/t51.2885-19/s150x150/13437332_1384400128243489_125660190_a.jpg', 'follower_count': 432, 'full_name': 'Boutique Beach House'}}]\n",
      "***********************************************places***********************************************\n",
      "[{'position': 3, 'place': {'title': 'Casa Del Mar', 'location': {'city': '', 'lng': -82.574444, 'short_name': 'Casa Del Mar', 'lat': 27.319167, 'pk': 246781036, 'external_source': 'facebook_places', 'facebook_places_id': 113320482011845, 'address': '', 'name': 'Casa Del Mar'}, 'subtitle': '', 'media_bundles': []}}, {'position': 6, 'place': {'title': 'Praia De Manguinhos', 'location': {'city': 'Armação dos Búzios, RJ', 'lng': -41.927368, 'short_name': 'Praia De Manguinhos', 'lat': -22.769973, 'pk': 506618149531981, 'external_source': 'facebook_places', 'facebook_places_id': 506618149531981, 'address': 'minha casa', 'name': 'Praia De Manguinhos'}, 'subtitle': 'minha casa, Armação dos Búzios, RJ', 'media_bundles': []}}, {'position': 8, 'place': {'title': 'Woodbine Master Association', 'location': {'city': 'Riviera Beach, FL', 'lng': -80.112175116882, 'short_name': 'Woodbine Master Association', 'lat': 26.792229046778, 'pk': 457235111, 'external_source': 'facebook_places', 'facebook_places_id': 167114456633257, 'address': '3000 Casa Rio Ct', 'name': 'Woodbine Master Association'}, 'subtitle': '3000 Casa Rio Ct, Riviera Beach, FL', 'media_bundles': []}}, {'position': 9, 'place': {'title': 'Ghost Knight Performance', 'location': {'city': 'Palm Beach Gardens, Florida', 'lng': -80.112389, 'short_name': 'Ghost Knight Performance', 'lat': 26.793665, 'pk': 832570577, 'external_source': 'facebook_places', 'facebook_places_id': 388272527860564, 'address': '3017 Casa Rio Ct', 'name': 'Ghost Knight Performance'}, 'subtitle': '3017 Casa Rio Ct, Palm Beach Gardens, Florida', 'media_bundles': []}}, {'position': 10, 'place': {'title': 'Casa Rio Apartments', 'location': {'city': 'Long Beach, CA', 'lng': -118.18032, 'short_name': 'Casa Rio Apartments', 'lat': 33.7664, 'pk': 796397768, 'external_source': 'facebook_places', 'facebook_places_id': 110688852329428, 'address': '1015 E Ocean Blvd', 'name': 'Casa Rio Apartments'}, 'subtitle': '1015 E Ocean Blvd, Long Beach, CA', 'media_bundles': []}}, {'position': 11, 'place': {'title': 'Gonzo Properties', 'location': {'city': 'Riviera Beach, FL', 'lng': -80.1126, 'short_name': 'Gonzo Properties', 'lat': 26.79417, 'pk': 0, 'external_source': 'facebook_places', 'facebook_places_id': 112394442434919, 'address': '3025  Casa Rio Ct', 'name': 'Gonzo Properties'}, 'subtitle': '3025  Casa Rio Ct, Riviera Beach, FL', 'media_bundles': []}}, {'position': 12, 'place': {'title': 'Casa Rio Boat and Motor Sales', 'location': {'city': 'Jensen Beach, FL', 'lng': -80.23794, 'short_name': 'Casa Rio Boat and Motor Sales', 'lat': 27.21847, 'pk': 141621459216921, 'external_source': 'facebook_places', 'facebook_places_id': 141621459216921, 'address': '1050 NE Dixie Hwy', 'name': 'Casa Rio Boat and Motor Sales'}, 'subtitle': '1050 NE Dixie Hwy, Jensen Beach, FL', 'media_bundles': []}}, {'position': 13, 'place': {'title': 'Casa Del Rio', 'location': {'city': 'Miami Beach, FL', 'lng': -80.124, 'short_name': 'Casa Del Rio', 'lat': 25.84434, 'pk': 716596829, 'external_source': 'facebook_places', 'facebook_places_id': 157444597622268, 'address': '6300 Allison Rd', 'name': 'Casa Del Rio'}, 'subtitle': '6300 Allison Rd, Miami Beach, FL', 'media_bundles': []}}, {'position': 14, 'place': {'title': 'Christine Sabella', 'location': {'city': 'Riviera Beach, FL', 'lng': -80.11292, 'short_name': 'Christine Sabella', 'lat': 26.79318, 'pk': 0, 'external_source': 'facebook_places', 'facebook_places_id': 405953329591945, 'address': '3085  Casa Rio Ct', 'name': 'Christine Sabella'}, 'subtitle': '3085  Casa Rio Ct, Riviera Beach, FL', 'media_bundles': []}}, {'position': 15, 'place': {'title': 'Tarra Enterprises', 'location': {'city': 'Riviera Beach, FL', 'lng': -80.11288, 'short_name': 'Tarra Enterprises', 'lat': 26.79414, 'pk': 0, 'external_source': 'facebook_places', 'facebook_places_id': 295401987538087, 'address': '3028  Casa Rio Ct', 'name': 'Tarra Enterprises'}, 'subtitle': '3028  Casa Rio Ct, Riviera Beach, FL', 'media_bundles': []}}, {'position': 16, 'place': {'title': 'Sandtree Family Therapy', 'location': {'city': 'Riviera Beach, FL', 'lng': -80.11324, 'short_name': 'Sandtree Family Therapy', 'lat': 26.7942, 'pk': 0, 'external_source': 'facebook_places', 'facebook_places_id': 505018052983488, 'address': '3033  Casa Rio Ct', 'name': 'Sandtree Family Therapy'}, 'subtitle': '3033  Casa Rio Ct, Riviera Beach, FL', 'media_bundles': []}}, {'position': 17, 'place': {'title': 'Deluxe Beach House', 'location': {'city': 'RJ', 'lng': -41.927265, 'short_name': 'Deluxe Beach House', 'lat': -22.770449, 'pk': 0, 'external_source': 'facebook_places', 'facebook_places_id': 526235454227172, 'address': 'Rua Pixinguinha, Casa 6, Praia de Manguinhos', 'name': 'Deluxe Beach House'}, 'subtitle': 'Rua Pixinguinha, Casa 6, Praia de Manguinhos, RJ', 'media_bundles': []}}, {'position': 18, 'place': {'title': 'JVC Enterprise', 'location': {'city': 'Riviera Beach, FL', 'lng': -80.11251, 'short_name': 'JVC Enterprise', 'lat': 26.79291, 'pk': 0, 'external_source': 'facebook_places', 'facebook_places_id': 963109487066392, 'address': '3009  Casa Rio Ct', 'name': 'JVC Enterprise'}, 'subtitle': '3009  Casa Rio Ct, Riviera Beach, FL', 'media_bundles': []}}, {'position': 19, 'place': {'title': 'Complete Camera Systems', 'location': {'city': 'Riviera Beach, FL', 'lng': -80.11365, 'short_name': 'Complete Camera Systems', 'lat': 26.79325, 'pk': 0, 'external_source': 'facebook_places', 'facebook_places_id': 1076135675748034, 'address': '3076  Casa Rio Ct', 'name': 'Complete Camera Systems'}, 'subtitle': '3076  Casa Rio Ct, Riviera Beach, FL', 'media_bundles': []}}, {'position': 20, 'place': {'title': \"Faye's Hair Shapery\", 'location': {'city': 'Riviera Beach, FL', 'lng': -80.1132499, 'short_name': \"Faye's Hair Shapery\", 'lat': 26.79404, 'pk': 0, 'external_source': 'facebook_places', 'facebook_places_id': 1628839777386377, 'address': '3032  Casa Rio Ct', 'name': \"Faye's Hair Shapery\"}, 'subtitle': '3032  Casa Rio Ct, Riviera Beach, FL', 'media_bundles': []}}, {'position': 21, 'place': {'title': 'Sustainable Designs', 'location': {'city': 'Riviera Beach, FL', 'lng': -80.11454, 'short_name': 'Sustainable Designs', 'lat': 26.79424, 'pk': 0, 'external_source': 'facebook_places', 'facebook_places_id': 1692173007677345, 'address': '3047  Casa Rio Ct', 'name': 'Sustainable Designs'}, 'subtitle': '3047  Casa Rio Ct, Riviera Beach, FL', 'media_bundles': []}}]\n",
      "**********************************************hashtags**********************************************\n",
      "[{'hashtag': {'media_count': 9, 'id': 17868592219095107, 'name': 'casariobeach'}, 'position': 1}, {'hashtag': {'media_count': 1, 'id': 17901036787148978, 'name': 'casariobeach‼️👌'}, 'position': 7}]\n",
      "**********************************************has_more**********************************************\n",
      "True\n"
     ]
    }
   ],
   "source": [
    "print(query.keys())\n",
    "print(\"Users\".center(100,\"*\"))\n",
    "print(query.get(\"users\"))\n",
    "print(\"places\".center(100,\"*\"))\n",
    "print(query.get(\"places\"))\n",
    "print(\"hashtags\".center(100,\"*\"))\n",
    "print(query.get(\"hashtags\"))\n",
    "print(\"has_more\".center(100,\"*\"))\n",
    "print(query.get(\"has_more\"))"
   ]
  },
  {
   "cell_type": "markdown",
   "metadata": {},
   "source": [
    "\n",
    "# INICIALIZAÇÃO DE VARIAVEIS"
   ]
  },
  {
   "cell_type": "code",
   "execution_count": 11,
   "metadata": {
    "collapsed": true
   },
   "outputs": [],
   "source": [
    "query_time_ini = datetime.strptime(\"2018-01-01\", '%Y-%m-%d')\n",
    "query_time_end = datetime.strptime(\"2018-04-02\", '%Y-%m-%d')\n",
    "query_start_collect = datetime.strptime(\"2018-01-01\", '%Y-%m-%d')\n",
    "usernameId = \"1229681384\"\n",
    "listHashTags = [\"casariobotequim\",\"casariobotequimmais\",\"casariobotequim💣💥\"]\n",
    "listLocations = [\"257354853\"]"
   ]
  }
 ],
 "metadata": {
  "anaconda-cloud": {},
  "kernelspec": {
   "display_name": "Python [default]",
   "language": "python",
   "name": "python3"
  },
  "language_info": {
   "codemirror_mode": {
    "name": "ipython",
    "version": 3
   },
   "file_extension": ".py",
   "mimetype": "text/x-python",
   "name": "python",
   "nbconvert_exporter": "python",
   "pygments_lexer": "ipython3",
   "version": "3.5.2"
  }
 },
 "nbformat": 4,
 "nbformat_minor": 2
}
