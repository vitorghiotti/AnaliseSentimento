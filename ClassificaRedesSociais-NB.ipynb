{
 "cells": [
  {
   "cell_type": "code",
   "execution_count": 1,
   "metadata": {},
   "outputs": [],
   "source": [
    "#!pip install comb"
   ]
  },
  {
   "cell_type": "code",
   "execution_count": 2,
   "metadata": {},
   "outputs": [],
   "source": [
    "#!pip install orm\n",
    "#!pip install pony\n",
    "import re\n",
    "import time\n",
    "import ClassificadorNB\n",
    "import sqlite3"
   ]
  },
  {
   "cell_type": "code",
   "execution_count": 3,
   "metadata": {},
   "outputs": [],
   "source": [
    "ClassificadorNB.treinaModelo(True,1,0.975)\n",
    "conn = sqlite3.connect('tweets.sqlite')"
   ]
  },
  {
   "cell_type": "code",
   "execution_count": 4,
   "metadata": {},
   "outputs": [],
   "source": [
    "cur = conn.cursor()\n",
    "cur.execute(\"SELECT id, reacao from reacao where sentimento = 0\")\n",
    "reacoes = cur.fetchall()"
   ]
  },
  {
   "cell_type": "code",
   "execution_count": 5,
   "metadata": {},
   "outputs": [],
   "source": [
    "for row in reacoes:\n",
    "    sentimento_positivo = ClassificadorNB.classifica(row[1])\n",
    "    prob_negativo = ClassificadorNB.Prob_Label(row[1],-1)\n",
    "    prob_positivo = ClassificadorNB.Prob_Label(row[1],1)\n",
    "    features = ClassificadorNB.get_features(row[1])\n",
    "\n",
    "    #sql_update = \"update reacao set sentimento= \" + str(sent.get(str(sentimento_positivo))) + \", prob_positivo='\" + str(prob_positivo) + \"', prob_negativo='\" + str(prob_negativo) + \"', feature_classifier ='\" + str(features).replace(\"'\",\"\") + \"' where id = \" + str(row[0]) \n",
    "    sql_update = \"update reacao set sentimento= \" + str(sentimento_positivo) + \", prob_positivo='\" + str(prob_positivo) + \"', prob_negativo='\" + str(prob_negativo) + \"', feature_classifier ='\" + str(features).replace(\"'\",\"\") + \"', date_classificacao = CURRENT_TIMESTAMP where id = \" + str(row[0]) \n",
    "    #print(sql_update)\n",
    "    cur.execute(sql_update).fetchone()\n",
    "    conn.commit()"
   ]
  },
  {
   "cell_type": "code",
   "execution_count": null,
   "metadata": {},
   "outputs": [],
   "source": []
  }
 ],
 "metadata": {
  "kernelspec": {
   "display_name": "Python 3",
   "language": "python",
   "name": "python3"
  },
  "language_info": {
   "codemirror_mode": {
    "name": "ipython",
    "version": 3
   },
   "file_extension": ".py",
   "mimetype": "text/x-python",
   "name": "python",
   "nbconvert_exporter": "python",
   "pygments_lexer": "ipython3",
   "version": "3.6.4"
  }
 },
 "nbformat": 4,
 "nbformat_minor": 1
}
