{
 "cells": [
  {
   "cell_type": "code",
   "execution_count": 1,
   "metadata": {},
   "outputs": [],
   "source": [
    "#!pip install orm\n",
    "#!pip install pony\n",
    "import re\n",
    "import time\n",
    "import Classificador\n",
    "import sqlite3"
   ]
  },
  {
   "cell_type": "code",
   "execution_count": 2,
   "metadata": {},
   "outputs": [],
   "source": [
    "Classificador.treinaModelo(True)\n",
    "conn = sqlite3.connect('tweets.sqlite')"
   ]
  },
  {
   "cell_type": "code",
   "execution_count": 6,
   "metadata": {},
   "outputs": [],
   "source": [
    "sent = {\"True\":1,\"False\":-1,\"None\":9}\n",
    "cur = conn.cursor()\n",
    "cur.execute(\"SELECT id, reacao from reacao where sentimento = 0\")\n",
    "reacoes = cur.fetchall()\n",
    "\n",
    "for row in reacoes:\n",
    "    sentimento_positivo = Classificador.classifica(row[1])\n",
    "    prob_positivo = Classificador.Prob_Label(row[1],False)\n",
    "    prob_negativo = Classificador.Prob_Label(row[1],True)\n",
    "    features = Classificador.get_features(row[1])\n",
    "\n",
    "    sql_update = \"update reacao set sentimento= \" + str(sent.get(str(sentimento_positivo))) + \", prob_positivo='\" + str(prob_positivo) + \"', prob_negativo='\" + str(prob_negativo) + \"', feature_classifier ='\" + str(features).replace(\"'\",\"\") + \"' where id = \" + str(row[0]) \n",
    "    cur.execute(sql_update).fetchone()\n",
    "    conn.commit()"
   ]
  },
  {
   "cell_type": "code",
   "execution_count": null,
   "metadata": {},
   "outputs": [],
   "source": []
  },
  {
   "cell_type": "code",
   "execution_count": null,
   "metadata": {},
   "outputs": [],
   "source": []
  },
  {
   "cell_type": "code",
   "execution_count": null,
   "metadata": {},
   "outputs": [],
   "source": []
  }
 ],
 "metadata": {
  "kernelspec": {
   "display_name": "Python 3",
   "language": "python",
   "name": "python3"
  },
  "language_info": {
   "codemirror_mode": {
    "name": "ipython",
    "version": 3
   },
   "file_extension": ".py",
   "mimetype": "text/x-python",
   "name": "python",
   "nbconvert_exporter": "python",
   "pygments_lexer": "ipython3",
   "version": "3.6.4"
  }
 },
 "nbformat": 4,
 "nbformat_minor": 1
}
